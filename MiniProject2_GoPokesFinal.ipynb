{
  "nbformat": 4,
  "nbformat_minor": 0,
  "metadata": {
    "colab": {
      "provenance": []
    },
    "kernelspec": {
      "name": "python3",
      "display_name": "Python 3"
    },
    "language_info": {
      "name": "python"
    }
  },
  "cells": [
    {
      "cell_type": "markdown",
      "source": [
        "**Setting up Spark Session on Google Collab**"
      ],
      "metadata": {
        "id": "hyxLlOj2uwK_"
      }
    },
    {
      "cell_type": "code",
      "source": [
        "!apt-get install openjdk-8-jdk-headless -qq > /dev/null\n",
        "!wget -q http://archive.apache.org/dist/spark/spark-3.1.1/spark-3.1.1-bin-hadoop3.2.tgz\n",
        "!tar xf spark-3.1.1-bin-hadoop3.2.tgz\n",
        "!pip install -q findspark"
      ],
      "metadata": {
        "id": "bXwiw2N6u2U6"
      },
      "execution_count": 1,
      "outputs": []
    },
    {
      "cell_type": "code",
      "source": [
        "import os\n",
        "os.environ[\"JAVA_HOME\"] = \"/usr/lib/jvm/java-8-openjdk-amd64\"\n",
        "os.environ[\"SPARK_HOME\"] = \"/content/spark-3.1.1-bin-hadoop3.2\""
      ],
      "metadata": {
        "id": "HxojOItPvEPb"
      },
      "execution_count": 2,
      "outputs": []
    },
    {
      "cell_type": "code",
      "source": [
        "!ls"
      ],
      "metadata": {
        "colab": {
          "base_uri": "https://localhost:8080/"
        },
        "id": "L-hVVooCvFUV",
        "outputId": "c1b3b63b-4380-4776-949f-0d5981d71958"
      },
      "execution_count": 3,
      "outputs": [
        {
          "output_type": "stream",
          "name": "stdout",
          "text": [
            "sample_data\t\t   spark-3.1.1-bin-hadoop3.2.tgz\n",
            "spark-3.1.1-bin-hadoop3.2  XYZ_Bank_Deposit_Data_Classification.csv\n"
          ]
        }
      ]
    },
    {
      "cell_type": "code",
      "source": [
        "import findspark\n",
        "findspark.init()\n",
        "\n",
        "from pyspark.sql import SparkSession\n",
        "from pyspark.conf import SparkConf\n",
        "from pyspark.sql.types import * \n",
        "import pyspark.sql.functions as F\n",
        "from pyspark.sql.functions import col, asc,desc\n",
        "import matplotlib.pyplot as plt\n",
        "import numpy as np\n",
        "import seaborn as sns\n",
        "from pyspark.sql import SQLContext\n",
        "from pyspark.mllib.stat import Statistics\n",
        "import pandas as pd\n",
        "from pyspark.sql.functions import udf\n",
        "from pyspark.ml.feature import OneHotEncoder, StringIndexer, VectorAssembler,StandardScaler\n",
        "from pyspark.ml import Pipeline\n",
        "from sklearn.metrics import confusion_matrix\n",
        "\n",
        "spark=SparkSession.builder \\\n",
        ".master (\"local[*]\")\\\n",
        ".appName(\"part3\")\\\n",
        ".getOrCreate()"
      ],
      "metadata": {
        "id": "7Z3trS0tvHk_"
      },
      "execution_count": 4,
      "outputs": []
    },
    {
      "cell_type": "code",
      "source": [
        "spark"
      ],
      "metadata": {
        "colab": {
          "base_uri": "https://localhost:8080/",
          "height": 219
        },
        "id": "HtNoQACivOAJ",
        "outputId": "e8a6ceac-205b-4b91-f341-9353530fe619"
      },
      "execution_count": 5,
      "outputs": [
        {
          "output_type": "execute_result",
          "data": {
            "text/plain": [
              "<pyspark.sql.session.SparkSession at 0x7ff550ff5910>"
            ],
            "text/html": [
              "\n",
              "            <div>\n",
              "                <p><b>SparkSession - in-memory</b></p>\n",
              "                \n",
              "        <div>\n",
              "            <p><b>SparkContext</b></p>\n",
              "\n",
              "            <p><a href=\"http://e165ccb2e23c:4040\">Spark UI</a></p>\n",
              "\n",
              "            <dl>\n",
              "              <dt>Version</dt>\n",
              "                <dd><code>v3.1.1</code></dd>\n",
              "              <dt>Master</dt>\n",
              "                <dd><code>local[*]</code></dd>\n",
              "              <dt>AppName</dt>\n",
              "                <dd><code>part3</code></dd>\n",
              "            </dl>\n",
              "        </div>\n",
              "        \n",
              "            </div>\n",
              "        "
            ]
          },
          "metadata": {},
          "execution_count": 5
        }
      ]
    },
    {
      "cell_type": "code",
      "source": [
        "sc=spark.sparkContext\n",
        "sqlContext=SQLContext(sc)"
      ],
      "metadata": {
        "id": "8MgsNXF-vQWR"
      },
      "execution_count": 6,
      "outputs": []
    },
    {
      "cell_type": "code",
      "source": [
        "import os\n",
        "os.getcwd()"
      ],
      "metadata": {
        "colab": {
          "base_uri": "https://localhost:8080/",
          "height": 36
        },
        "id": "ojuomn1hvTT6",
        "outputId": "bb3d953c-f06d-456e-ae10-aa17bbad7a7a"
      },
      "execution_count": 7,
      "outputs": [
        {
          "output_type": "execute_result",
          "data": {
            "text/plain": [
              "'/content'"
            ],
            "application/vnd.google.colaboratory.intrinsic+json": {
              "type": "string"
            }
          },
          "metadata": {},
          "execution_count": 7
        }
      ]
    },
    {
      "cell_type": "code",
      "source": [
        "from platform import python_version\n",
        "print(python_version())"
      ],
      "metadata": {
        "colab": {
          "base_uri": "https://localhost:8080/"
        },
        "id": "wZiRznbzvVsw",
        "outputId": "30a88b35-4c58-4064-e1f1-689e466defda"
      },
      "execution_count": 8,
      "outputs": [
        {
          "output_type": "stream",
          "name": "stdout",
          "text": [
            "3.7.15\n"
          ]
        }
      ]
    },
    {
      "cell_type": "code",
      "source": [
        "sc.version #spark version"
      ],
      "metadata": {
        "colab": {
          "base_uri": "https://localhost:8080/",
          "height": 36
        },
        "id": "SJg2XDu9vZHA",
        "outputId": "99f3ce12-8b71-409f-cf6d-9a12eb39ee52"
      },
      "execution_count": 9,
      "outputs": [
        {
          "output_type": "execute_result",
          "data": {
            "text/plain": [
              "'3.1.1'"
            ],
            "application/vnd.google.colaboratory.intrinsic+json": {
              "type": "string"
            }
          },
          "metadata": {},
          "execution_count": 9
        }
      ]
    },
    {
      "cell_type": "markdown",
      "source": [
        "**Read the Project File - Telemarketing Campaign Data**"
      ],
      "metadata": {
        "id": "Yz474otkvcgQ"
      }
    },
    {
      "cell_type": "code",
      "source": [
        "DataFrame=spark.read \\\n",
        " .option(\"header\",\"True\")\\\n",
        " .option(\"inferSchema\",\"True\")\\\n",
        " .option(\"sep\",\";\")\\\n",
        " .csv(\"CampaignData.csv\")\n",
        "print(\"There are\",DataFrame.count(),\"rows\",len(DataFrame.columns),\n",
        "      \"columns\" ,\"in the data.\") "
      ],
      "metadata": {
        "colab": {
          "base_uri": "https://localhost:8080/"
        },
        "id": "SrthzdQFvnup",
        "outputId": "9c7d3a4c-ae4a-4bfe-a73b-1c1c982c00dc"
      },
      "execution_count": 11,
      "outputs": [
        {
          "output_type": "stream",
          "name": "stdout",
          "text": [
            "There are 41188 rows 21 columns in the data.\n"
          ]
        }
      ]
    },
    {
      "cell_type": "markdown",
      "source": [
        "**Sample Data - 10 Rows of the Input DataFrame**"
      ],
      "metadata": {
        "id": "WTTy5j2RwwJH"
      }
    },
    {
      "cell_type": "code",
      "source": [
        "DataFrame.show(10)"
      ],
      "metadata": {
        "colab": {
          "base_uri": "https://localhost:8080/"
        },
        "id": "RhyegOD2wuYN",
        "outputId": "03b6d328-3676-4aa2-9d87-6586a77a7537"
      },
      "execution_count": 12,
      "outputs": [
        {
          "output_type": "stream",
          "name": "stdout",
          "text": [
            "+---+-----------+-------+-------------------+-------+-------+----+---------+-----+-----------+--------+--------+-----+--------+-----------+------------+--------------+-------------+---------+-----------+---+\n",
            "|age|        job|marital|          education|default|housing|loan|  contact|month|day_of_week|duration|campaign|pdays|previous|   poutcome|emp.var.rate|cons.price.idx|cons.conf.idx|euribor3m|nr.employed|  y|\n",
            "+---+-----------+-------+-------------------+-------+-------+----+---------+-----+-----------+--------+--------+-----+--------+-----------+------------+--------------+-------------+---------+-----------+---+\n",
            "| 56|  housemaid|married|           basic.4y|     no|     no|  no|telephone|  may|        mon|     261|       1|  999|       0|nonexistent|         1.1|        93.994|        -36.4|    4.857|     5191.0| no|\n",
            "| 57|   services|married|        high.school|unknown|     no|  no|telephone|  may|        mon|     149|       1|  999|       0|nonexistent|         1.1|        93.994|        -36.4|    4.857|     5191.0| no|\n",
            "| 37|   services|married|        high.school|     no|    yes|  no|telephone|  may|        mon|     226|       1|  999|       0|nonexistent|         1.1|        93.994|        -36.4|    4.857|     5191.0| no|\n",
            "| 40|     admin.|married|           basic.6y|     no|     no|  no|telephone|  may|        mon|     151|       1|  999|       0|nonexistent|         1.1|        93.994|        -36.4|    4.857|     5191.0| no|\n",
            "| 56|   services|married|        high.school|     no|     no| yes|telephone|  may|        mon|     307|       1|  999|       0|nonexistent|         1.1|        93.994|        -36.4|    4.857|     5191.0| no|\n",
            "| 45|   services|married|           basic.9y|unknown|     no|  no|telephone|  may|        mon|     198|       1|  999|       0|nonexistent|         1.1|        93.994|        -36.4|    4.857|     5191.0| no|\n",
            "| 59|     admin.|married|professional.course|     no|     no|  no|telephone|  may|        mon|     139|       1|  999|       0|nonexistent|         1.1|        93.994|        -36.4|    4.857|     5191.0| no|\n",
            "| 41|blue-collar|married|            unknown|unknown|     no|  no|telephone|  may|        mon|     217|       1|  999|       0|nonexistent|         1.1|        93.994|        -36.4|    4.857|     5191.0| no|\n",
            "| 24| technician| single|professional.course|     no|    yes|  no|telephone|  may|        mon|     380|       1|  999|       0|nonexistent|         1.1|        93.994|        -36.4|    4.857|     5191.0| no|\n",
            "| 25|   services| single|        high.school|     no|    yes|  no|telephone|  may|        mon|      50|       1|  999|       0|nonexistent|         1.1|        93.994|        -36.4|    4.857|     5191.0| no|\n",
            "+---+-----------+-------+-------------------+-------+-------+----+---------+-----+-----------+--------+--------+-----+--------+-----------+------------+--------------+-------------+---------+-----------+---+\n",
            "only showing top 10 rows\n",
            "\n"
          ]
        }
      ]
    },
    {
      "cell_type": "markdown",
      "source": [
        "There are 21 columns in the Input DataFrame \"Campaign Data\". This also includes a **target variable 'y'** which shows if a customer has (or not) subscribed to the Term Deposit plan of the bank."
      ],
      "metadata": {
        "id": "-GUpvhibxfT9"
      }
    },
    {
      "cell_type": "markdown",
      "source": [
        "**Datatype of Columns**"
      ],
      "metadata": {
        "id": "PXuFljkfydTg"
      }
    },
    {
      "cell_type": "code",
      "source": [
        "DataFrame.printSchema()"
      ],
      "metadata": {
        "colab": {
          "base_uri": "https://localhost:8080/"
        },
        "id": "MTzIdd3CyMgf",
        "outputId": "9bff8b3b-c99e-4109-e10c-fb041a506130"
      },
      "execution_count": 13,
      "outputs": [
        {
          "output_type": "stream",
          "name": "stdout",
          "text": [
            "root\n",
            " |-- age: integer (nullable = true)\n",
            " |-- job: string (nullable = true)\n",
            " |-- marital: string (nullable = true)\n",
            " |-- education: string (nullable = true)\n",
            " |-- default: string (nullable = true)\n",
            " |-- housing: string (nullable = true)\n",
            " |-- loan: string (nullable = true)\n",
            " |-- contact: string (nullable = true)\n",
            " |-- month: string (nullable = true)\n",
            " |-- day_of_week: string (nullable = true)\n",
            " |-- duration: integer (nullable = true)\n",
            " |-- campaign: integer (nullable = true)\n",
            " |-- pdays: integer (nullable = true)\n",
            " |-- previous: integer (nullable = true)\n",
            " |-- poutcome: string (nullable = true)\n",
            " |-- emp.var.rate: double (nullable = true)\n",
            " |-- cons.price.idx: double (nullable = true)\n",
            " |-- cons.conf.idx: double (nullable = true)\n",
            " |-- euribor3m: double (nullable = true)\n",
            " |-- nr.employed: double (nullable = true)\n",
            " |-- y: string (nullable = true)\n",
            "\n"
          ]
        }
      ]
    },
    {
      "cell_type": "code",
      "source": [
        "DataFrame2 = DataFrame.withColumnRenamed(\"emp.var.rate\",\"emp_var_rate\") \\\n",
        ".withColumnRenamed(\"cons.price.idx\",\"cons_price_idx\") \\\n",
        ".withColumnRenamed(\"cons.conf.idx\",'cons_conf_idx') \\\n",
        ".withColumnRenamed(\"nr.employed\",'nr_employed')\n",
        "\n",
        "DataFrame2.printSchema()\n"
      ],
      "metadata": {
        "colab": {
          "base_uri": "https://localhost:8080/"
        },
        "id": "PzxwCPrICrci",
        "outputId": "346de1b9-4c9d-4603-f6ad-9b11c4d2b230"
      },
      "execution_count": 14,
      "outputs": [
        {
          "output_type": "stream",
          "name": "stdout",
          "text": [
            "root\n",
            " |-- age: integer (nullable = true)\n",
            " |-- job: string (nullable = true)\n",
            " |-- marital: string (nullable = true)\n",
            " |-- education: string (nullable = true)\n",
            " |-- default: string (nullable = true)\n",
            " |-- housing: string (nullable = true)\n",
            " |-- loan: string (nullable = true)\n",
            " |-- contact: string (nullable = true)\n",
            " |-- month: string (nullable = true)\n",
            " |-- day_of_week: string (nullable = true)\n",
            " |-- duration: integer (nullable = true)\n",
            " |-- campaign: integer (nullable = true)\n",
            " |-- pdays: integer (nullable = true)\n",
            " |-- previous: integer (nullable = true)\n",
            " |-- poutcome: string (nullable = true)\n",
            " |-- emp_var_rate: double (nullable = true)\n",
            " |-- cons_price_idx: double (nullable = true)\n",
            " |-- cons_conf_idx: double (nullable = true)\n",
            " |-- euribor3m: double (nullable = true)\n",
            " |-- nr_employed: double (nullable = true)\n",
            " |-- y: string (nullable = true)\n",
            "\n"
          ]
        }
      ]
    },
    {
      "cell_type": "markdown",
      "source": [
        "**Checking for NULLs in the Dataset**"
      ],
      "metadata": {
        "id": "ZdmpaC1pAiJE"
      }
    },
    {
      "cell_type": "code",
      "source": [
        "from pyspark.sql.functions import isnan, when, count, col\n",
        "DataFrame2.select([count(when(isnan(col), col)).alias(col) for col in DataFrame2.columns]).toPandas().head()"
      ],
      "metadata": {
        "colab": {
          "base_uri": "https://localhost:8080/",
          "height": 110
        },
        "id": "57cwgskrAJAB",
        "outputId": "e74d8fcf-6bb2-45d9-c6a0-ac93e590f516"
      },
      "execution_count": 15,
      "outputs": [
        {
          "output_type": "execute_result",
          "data": {
            "text/plain": [
              "   age  job  marital  education  default  housing  loan  contact  month  \\\n",
              "0    0    0        0          0        0        0     0        0      0   \n",
              "\n",
              "   day_of_week  ...  campaign  pdays  previous  poutcome  emp_var_rate  \\\n",
              "0            0  ...         0      0         0         0             0   \n",
              "\n",
              "   cons_price_idx  cons_conf_idx  euribor3m  nr_employed  y  \n",
              "0               0              0          0            0  0  \n",
              "\n",
              "[1 rows x 21 columns]"
            ],
            "text/html": [
              "\n",
              "  <div id=\"df-9bda0d74-b720-4a17-a812-54bfb736a6f5\">\n",
              "    <div class=\"colab-df-container\">\n",
              "      <div>\n",
              "<style scoped>\n",
              "    .dataframe tbody tr th:only-of-type {\n",
              "        vertical-align: middle;\n",
              "    }\n",
              "\n",
              "    .dataframe tbody tr th {\n",
              "        vertical-align: top;\n",
              "    }\n",
              "\n",
              "    .dataframe thead th {\n",
              "        text-align: right;\n",
              "    }\n",
              "</style>\n",
              "<table border=\"1\" class=\"dataframe\">\n",
              "  <thead>\n",
              "    <tr style=\"text-align: right;\">\n",
              "      <th></th>\n",
              "      <th>age</th>\n",
              "      <th>job</th>\n",
              "      <th>marital</th>\n",
              "      <th>education</th>\n",
              "      <th>default</th>\n",
              "      <th>housing</th>\n",
              "      <th>loan</th>\n",
              "      <th>contact</th>\n",
              "      <th>month</th>\n",
              "      <th>day_of_week</th>\n",
              "      <th>...</th>\n",
              "      <th>campaign</th>\n",
              "      <th>pdays</th>\n",
              "      <th>previous</th>\n",
              "      <th>poutcome</th>\n",
              "      <th>emp_var_rate</th>\n",
              "      <th>cons_price_idx</th>\n",
              "      <th>cons_conf_idx</th>\n",
              "      <th>euribor3m</th>\n",
              "      <th>nr_employed</th>\n",
              "      <th>y</th>\n",
              "    </tr>\n",
              "  </thead>\n",
              "  <tbody>\n",
              "    <tr>\n",
              "      <th>0</th>\n",
              "      <td>0</td>\n",
              "      <td>0</td>\n",
              "      <td>0</td>\n",
              "      <td>0</td>\n",
              "      <td>0</td>\n",
              "      <td>0</td>\n",
              "      <td>0</td>\n",
              "      <td>0</td>\n",
              "      <td>0</td>\n",
              "      <td>0</td>\n",
              "      <td>...</td>\n",
              "      <td>0</td>\n",
              "      <td>0</td>\n",
              "      <td>0</td>\n",
              "      <td>0</td>\n",
              "      <td>0</td>\n",
              "      <td>0</td>\n",
              "      <td>0</td>\n",
              "      <td>0</td>\n",
              "      <td>0</td>\n",
              "      <td>0</td>\n",
              "    </tr>\n",
              "  </tbody>\n",
              "</table>\n",
              "<p>1 rows × 21 columns</p>\n",
              "</div>\n",
              "      <button class=\"colab-df-convert\" onclick=\"convertToInteractive('df-9bda0d74-b720-4a17-a812-54bfb736a6f5')\"\n",
              "              title=\"Convert this dataframe to an interactive table.\"\n",
              "              style=\"display:none;\">\n",
              "        \n",
              "  <svg xmlns=\"http://www.w3.org/2000/svg\" height=\"24px\"viewBox=\"0 0 24 24\"\n",
              "       width=\"24px\">\n",
              "    <path d=\"M0 0h24v24H0V0z\" fill=\"none\"/>\n",
              "    <path d=\"M18.56 5.44l.94 2.06.94-2.06 2.06-.94-2.06-.94-.94-2.06-.94 2.06-2.06.94zm-11 1L8.5 8.5l.94-2.06 2.06-.94-2.06-.94L8.5 2.5l-.94 2.06-2.06.94zm10 10l.94 2.06.94-2.06 2.06-.94-2.06-.94-.94-2.06-.94 2.06-2.06.94z\"/><path d=\"M17.41 7.96l-1.37-1.37c-.4-.4-.92-.59-1.43-.59-.52 0-1.04.2-1.43.59L10.3 9.45l-7.72 7.72c-.78.78-.78 2.05 0 2.83L4 21.41c.39.39.9.59 1.41.59.51 0 1.02-.2 1.41-.59l7.78-7.78 2.81-2.81c.8-.78.8-2.07 0-2.86zM5.41 20L4 18.59l7.72-7.72 1.47 1.35L5.41 20z\"/>\n",
              "  </svg>\n",
              "      </button>\n",
              "      \n",
              "  <style>\n",
              "    .colab-df-container {\n",
              "      display:flex;\n",
              "      flex-wrap:wrap;\n",
              "      gap: 12px;\n",
              "    }\n",
              "\n",
              "    .colab-df-convert {\n",
              "      background-color: #E8F0FE;\n",
              "      border: none;\n",
              "      border-radius: 50%;\n",
              "      cursor: pointer;\n",
              "      display: none;\n",
              "      fill: #1967D2;\n",
              "      height: 32px;\n",
              "      padding: 0 0 0 0;\n",
              "      width: 32px;\n",
              "    }\n",
              "\n",
              "    .colab-df-convert:hover {\n",
              "      background-color: #E2EBFA;\n",
              "      box-shadow: 0px 1px 2px rgba(60, 64, 67, 0.3), 0px 1px 3px 1px rgba(60, 64, 67, 0.15);\n",
              "      fill: #174EA6;\n",
              "    }\n",
              "\n",
              "    [theme=dark] .colab-df-convert {\n",
              "      background-color: #3B4455;\n",
              "      fill: #D2E3FC;\n",
              "    }\n",
              "\n",
              "    [theme=dark] .colab-df-convert:hover {\n",
              "      background-color: #434B5C;\n",
              "      box-shadow: 0px 1px 3px 1px rgba(0, 0, 0, 0.15);\n",
              "      filter: drop-shadow(0px 1px 2px rgba(0, 0, 0, 0.3));\n",
              "      fill: #FFFFFF;\n",
              "    }\n",
              "  </style>\n",
              "\n",
              "      <script>\n",
              "        const buttonEl =\n",
              "          document.querySelector('#df-9bda0d74-b720-4a17-a812-54bfb736a6f5 button.colab-df-convert');\n",
              "        buttonEl.style.display =\n",
              "          google.colab.kernel.accessAllowed ? 'block' : 'none';\n",
              "\n",
              "        async function convertToInteractive(key) {\n",
              "          const element = document.querySelector('#df-9bda0d74-b720-4a17-a812-54bfb736a6f5');\n",
              "          const dataTable =\n",
              "            await google.colab.kernel.invokeFunction('convertToInteractive',\n",
              "                                                     [key], {});\n",
              "          if (!dataTable) return;\n",
              "\n",
              "          const docLinkHtml = 'Like what you see? Visit the ' +\n",
              "            '<a target=\"_blank\" href=https://colab.research.google.com/notebooks/data_table.ipynb>data table notebook</a>'\n",
              "            + ' to learn more about interactive tables.';\n",
              "          element.innerHTML = '';\n",
              "          dataTable['output_type'] = 'display_data';\n",
              "          await google.colab.output.renderOutput(dataTable, element);\n",
              "          const docLink = document.createElement('div');\n",
              "          docLink.innerHTML = docLinkHtml;\n",
              "          element.appendChild(docLink);\n",
              "        }\n",
              "      </script>\n",
              "    </div>\n",
              "  </div>\n",
              "  "
            ]
          },
          "metadata": {},
          "execution_count": 15
        }
      ]
    },
    {
      "cell_type": "markdown",
      "source": [
        "**Summary Statistics for Numeric Variables**  "
      ],
      "metadata": {
        "id": "bfGRlEnTHMEi"
      }
    },
    {
      "cell_type": "code",
      "source": [
        "num_features = [t[0] for t in DataFrame2.dtypes if t[1] == 'int' or t[1] == 'double']\n",
        "DataFrame2.select(num_features).describe().toPandas().transpose()"
      ],
      "metadata": {
        "colab": {
          "base_uri": "https://localhost:8080/",
          "height": 394
        },
        "id": "ZMvQCK-JHLVD",
        "outputId": "839a74c2-8cae-4f98-e52a-0f4e27d44700"
      },
      "execution_count": 16,
      "outputs": [
        {
          "output_type": "execute_result",
          "data": {
            "text/plain": [
              "                    0                    1                   2       3       4\n",
              "summary         count                 mean              stddev     min     max\n",
              "age             41188    40.02406040594348  10.421249980934036      17      98\n",
              "duration        41188    258.2850101971448    259.279248836465       0    4918\n",
              "campaign        41188    2.567592502670681   2.770013542902325       1      56\n",
              "pdays           41188    962.4754540157328  186.91090734474088       0     999\n",
              "previous        41188  0.17296299893172767  0.4949010798392903       0       7\n",
              "emp_var_rate    41188  0.08188550063188142    1.57095974051703    -3.4     1.4\n",
              "cons_price_idx  41188      93.575664368313  0.5788400489540073  92.201  94.767\n",
              "cons_conf_idx   41188  -40.502600271913245    4.62819785617459   -50.8   -26.9\n",
              "euribor3m       41188    3.621290812858178  1.7344474048512581   0.634   5.045\n",
              "nr_employed     41188    5167.035910942858   72.25152766826842  4963.6  5228.1"
            ],
            "text/html": [
              "\n",
              "  <div id=\"df-6e365c39-8b2f-4645-9795-92677f37895d\">\n",
              "    <div class=\"colab-df-container\">\n",
              "      <div>\n",
              "<style scoped>\n",
              "    .dataframe tbody tr th:only-of-type {\n",
              "        vertical-align: middle;\n",
              "    }\n",
              "\n",
              "    .dataframe tbody tr th {\n",
              "        vertical-align: top;\n",
              "    }\n",
              "\n",
              "    .dataframe thead th {\n",
              "        text-align: right;\n",
              "    }\n",
              "</style>\n",
              "<table border=\"1\" class=\"dataframe\">\n",
              "  <thead>\n",
              "    <tr style=\"text-align: right;\">\n",
              "      <th></th>\n",
              "      <th>0</th>\n",
              "      <th>1</th>\n",
              "      <th>2</th>\n",
              "      <th>3</th>\n",
              "      <th>4</th>\n",
              "    </tr>\n",
              "  </thead>\n",
              "  <tbody>\n",
              "    <tr>\n",
              "      <th>summary</th>\n",
              "      <td>count</td>\n",
              "      <td>mean</td>\n",
              "      <td>stddev</td>\n",
              "      <td>min</td>\n",
              "      <td>max</td>\n",
              "    </tr>\n",
              "    <tr>\n",
              "      <th>age</th>\n",
              "      <td>41188</td>\n",
              "      <td>40.02406040594348</td>\n",
              "      <td>10.421249980934036</td>\n",
              "      <td>17</td>\n",
              "      <td>98</td>\n",
              "    </tr>\n",
              "    <tr>\n",
              "      <th>duration</th>\n",
              "      <td>41188</td>\n",
              "      <td>258.2850101971448</td>\n",
              "      <td>259.279248836465</td>\n",
              "      <td>0</td>\n",
              "      <td>4918</td>\n",
              "    </tr>\n",
              "    <tr>\n",
              "      <th>campaign</th>\n",
              "      <td>41188</td>\n",
              "      <td>2.567592502670681</td>\n",
              "      <td>2.770013542902325</td>\n",
              "      <td>1</td>\n",
              "      <td>56</td>\n",
              "    </tr>\n",
              "    <tr>\n",
              "      <th>pdays</th>\n",
              "      <td>41188</td>\n",
              "      <td>962.4754540157328</td>\n",
              "      <td>186.91090734474088</td>\n",
              "      <td>0</td>\n",
              "      <td>999</td>\n",
              "    </tr>\n",
              "    <tr>\n",
              "      <th>previous</th>\n",
              "      <td>41188</td>\n",
              "      <td>0.17296299893172767</td>\n",
              "      <td>0.4949010798392903</td>\n",
              "      <td>0</td>\n",
              "      <td>7</td>\n",
              "    </tr>\n",
              "    <tr>\n",
              "      <th>emp_var_rate</th>\n",
              "      <td>41188</td>\n",
              "      <td>0.08188550063188142</td>\n",
              "      <td>1.57095974051703</td>\n",
              "      <td>-3.4</td>\n",
              "      <td>1.4</td>\n",
              "    </tr>\n",
              "    <tr>\n",
              "      <th>cons_price_idx</th>\n",
              "      <td>41188</td>\n",
              "      <td>93.575664368313</td>\n",
              "      <td>0.5788400489540073</td>\n",
              "      <td>92.201</td>\n",
              "      <td>94.767</td>\n",
              "    </tr>\n",
              "    <tr>\n",
              "      <th>cons_conf_idx</th>\n",
              "      <td>41188</td>\n",
              "      <td>-40.502600271913245</td>\n",
              "      <td>4.62819785617459</td>\n",
              "      <td>-50.8</td>\n",
              "      <td>-26.9</td>\n",
              "    </tr>\n",
              "    <tr>\n",
              "      <th>euribor3m</th>\n",
              "      <td>41188</td>\n",
              "      <td>3.621290812858178</td>\n",
              "      <td>1.7344474048512581</td>\n",
              "      <td>0.634</td>\n",
              "      <td>5.045</td>\n",
              "    </tr>\n",
              "    <tr>\n",
              "      <th>nr_employed</th>\n",
              "      <td>41188</td>\n",
              "      <td>5167.035910942858</td>\n",
              "      <td>72.25152766826842</td>\n",
              "      <td>4963.6</td>\n",
              "      <td>5228.1</td>\n",
              "    </tr>\n",
              "  </tbody>\n",
              "</table>\n",
              "</div>\n",
              "      <button class=\"colab-df-convert\" onclick=\"convertToInteractive('df-6e365c39-8b2f-4645-9795-92677f37895d')\"\n",
              "              title=\"Convert this dataframe to an interactive table.\"\n",
              "              style=\"display:none;\">\n",
              "        \n",
              "  <svg xmlns=\"http://www.w3.org/2000/svg\" height=\"24px\"viewBox=\"0 0 24 24\"\n",
              "       width=\"24px\">\n",
              "    <path d=\"M0 0h24v24H0V0z\" fill=\"none\"/>\n",
              "    <path d=\"M18.56 5.44l.94 2.06.94-2.06 2.06-.94-2.06-.94-.94-2.06-.94 2.06-2.06.94zm-11 1L8.5 8.5l.94-2.06 2.06-.94-2.06-.94L8.5 2.5l-.94 2.06-2.06.94zm10 10l.94 2.06.94-2.06 2.06-.94-2.06-.94-.94-2.06-.94 2.06-2.06.94z\"/><path d=\"M17.41 7.96l-1.37-1.37c-.4-.4-.92-.59-1.43-.59-.52 0-1.04.2-1.43.59L10.3 9.45l-7.72 7.72c-.78.78-.78 2.05 0 2.83L4 21.41c.39.39.9.59 1.41.59.51 0 1.02-.2 1.41-.59l7.78-7.78 2.81-2.81c.8-.78.8-2.07 0-2.86zM5.41 20L4 18.59l7.72-7.72 1.47 1.35L5.41 20z\"/>\n",
              "  </svg>\n",
              "      </button>\n",
              "      \n",
              "  <style>\n",
              "    .colab-df-container {\n",
              "      display:flex;\n",
              "      flex-wrap:wrap;\n",
              "      gap: 12px;\n",
              "    }\n",
              "\n",
              "    .colab-df-convert {\n",
              "      background-color: #E8F0FE;\n",
              "      border: none;\n",
              "      border-radius: 50%;\n",
              "      cursor: pointer;\n",
              "      display: none;\n",
              "      fill: #1967D2;\n",
              "      height: 32px;\n",
              "      padding: 0 0 0 0;\n",
              "      width: 32px;\n",
              "    }\n",
              "\n",
              "    .colab-df-convert:hover {\n",
              "      background-color: #E2EBFA;\n",
              "      box-shadow: 0px 1px 2px rgba(60, 64, 67, 0.3), 0px 1px 3px 1px rgba(60, 64, 67, 0.15);\n",
              "      fill: #174EA6;\n",
              "    }\n",
              "\n",
              "    [theme=dark] .colab-df-convert {\n",
              "      background-color: #3B4455;\n",
              "      fill: #D2E3FC;\n",
              "    }\n",
              "\n",
              "    [theme=dark] .colab-df-convert:hover {\n",
              "      background-color: #434B5C;\n",
              "      box-shadow: 0px 1px 3px 1px rgba(0, 0, 0, 0.15);\n",
              "      filter: drop-shadow(0px 1px 2px rgba(0, 0, 0, 0.3));\n",
              "      fill: #FFFFFF;\n",
              "    }\n",
              "  </style>\n",
              "\n",
              "      <script>\n",
              "        const buttonEl =\n",
              "          document.querySelector('#df-6e365c39-8b2f-4645-9795-92677f37895d button.colab-df-convert');\n",
              "        buttonEl.style.display =\n",
              "          google.colab.kernel.accessAllowed ? 'block' : 'none';\n",
              "\n",
              "        async function convertToInteractive(key) {\n",
              "          const element = document.querySelector('#df-6e365c39-8b2f-4645-9795-92677f37895d');\n",
              "          const dataTable =\n",
              "            await google.colab.kernel.invokeFunction('convertToInteractive',\n",
              "                                                     [key], {});\n",
              "          if (!dataTable) return;\n",
              "\n",
              "          const docLinkHtml = 'Like what you see? Visit the ' +\n",
              "            '<a target=\"_blank\" href=https://colab.research.google.com/notebooks/data_table.ipynb>data table notebook</a>'\n",
              "            + ' to learn more about interactive tables.';\n",
              "          element.innerHTML = '';\n",
              "          dataTable['output_type'] = 'display_data';\n",
              "          await google.colab.output.renderOutput(dataTable, element);\n",
              "          const docLink = document.createElement('div');\n",
              "          docLink.innerHTML = docLinkHtml;\n",
              "          element.appendChild(docLink);\n",
              "        }\n",
              "      </script>\n",
              "    </div>\n",
              "  </div>\n",
              "  "
            ]
          },
          "metadata": {},
          "execution_count": 16
        }
      ]
    },
    {
      "cell_type": "markdown",
      "source": [
        "**Unique Values of the Categorical Columns**"
      ],
      "metadata": {
        "id": "wfC3PylUmwP_"
      }
    },
    {
      "cell_type": "code",
      "source": [
        "DataFrame2.select('job').distinct().show()"
      ],
      "metadata": {
        "colab": {
          "base_uri": "https://localhost:8080/"
        },
        "id": "T31UHKnHLg-n",
        "outputId": "31e8135d-fb9f-4e10-de62-923ed7daa80c"
      },
      "execution_count": 17,
      "outputs": [
        {
          "output_type": "stream",
          "name": "stdout",
          "text": [
            "+-------------+\n",
            "|          job|\n",
            "+-------------+\n",
            "|   management|\n",
            "|      retired|\n",
            "|      unknown|\n",
            "|self-employed|\n",
            "|      student|\n",
            "|  blue-collar|\n",
            "| entrepreneur|\n",
            "|       admin.|\n",
            "|   technician|\n",
            "|     services|\n",
            "|    housemaid|\n",
            "|   unemployed|\n",
            "+-------------+\n",
            "\n"
          ]
        }
      ]
    },
    {
      "cell_type": "code",
      "source": [
        "DataFrame2.select('marital').distinct().show()"
      ],
      "metadata": {
        "colab": {
          "base_uri": "https://localhost:8080/"
        },
        "id": "Ki7hhSHdm2qc",
        "outputId": "603f2a95-ed91-4652-b47e-e1b559403e8a"
      },
      "execution_count": 18,
      "outputs": [
        {
          "output_type": "stream",
          "name": "stdout",
          "text": [
            "+--------+\n",
            "| marital|\n",
            "+--------+\n",
            "| unknown|\n",
            "|divorced|\n",
            "| married|\n",
            "|  single|\n",
            "+--------+\n",
            "\n"
          ]
        }
      ]
    },
    {
      "cell_type": "code",
      "source": [
        "DataFrame2.select('education').distinct().show()"
      ],
      "metadata": {
        "colab": {
          "base_uri": "https://localhost:8080/"
        },
        "id": "RS2VVrQ-m7_n",
        "outputId": "a08c7ca7-389c-4a45-adf5-05920aee66e9"
      },
      "execution_count": 19,
      "outputs": [
        {
          "output_type": "stream",
          "name": "stdout",
          "text": [
            "+-------------------+\n",
            "|          education|\n",
            "+-------------------+\n",
            "|        high.school|\n",
            "|            unknown|\n",
            "|           basic.6y|\n",
            "|professional.course|\n",
            "|  university.degree|\n",
            "|         illiterate|\n",
            "|           basic.4y|\n",
            "|           basic.9y|\n",
            "+-------------------+\n",
            "\n"
          ]
        }
      ]
    },
    {
      "cell_type": "code",
      "source": [
        "DataFrame2.select('default').distinct().show()"
      ],
      "metadata": {
        "colab": {
          "base_uri": "https://localhost:8080/"
        },
        "id": "UoPzH5zhnIf2",
        "outputId": "eb5e0de1-1d82-42e2-b268-9da4da8e8cd6"
      },
      "execution_count": 20,
      "outputs": [
        {
          "output_type": "stream",
          "name": "stdout",
          "text": [
            "+-------+\n",
            "|default|\n",
            "+-------+\n",
            "|unknown|\n",
            "|     no|\n",
            "|    yes|\n",
            "+-------+\n",
            "\n"
          ]
        }
      ]
    },
    {
      "cell_type": "code",
      "source": [
        "DataFrame2.select('housing').distinct().show()"
      ],
      "metadata": {
        "colab": {
          "base_uri": "https://localhost:8080/"
        },
        "id": "2BantDUxnOch",
        "outputId": "0a11fa1a-30ba-4f8d-fea4-b652a840788f"
      },
      "execution_count": 21,
      "outputs": [
        {
          "output_type": "stream",
          "name": "stdout",
          "text": [
            "+-------+\n",
            "|housing|\n",
            "+-------+\n",
            "|unknown|\n",
            "|     no|\n",
            "|    yes|\n",
            "+-------+\n",
            "\n"
          ]
        }
      ]
    },
    {
      "cell_type": "code",
      "source": [
        "DataFrame2.select('loan').distinct().show()"
      ],
      "metadata": {
        "colab": {
          "base_uri": "https://localhost:8080/"
        },
        "id": "556706qOnaz0",
        "outputId": "5c7a670e-fd83-484f-9e72-61a77958d689"
      },
      "execution_count": 22,
      "outputs": [
        {
          "output_type": "stream",
          "name": "stdout",
          "text": [
            "+-------+\n",
            "|   loan|\n",
            "+-------+\n",
            "|unknown|\n",
            "|     no|\n",
            "|    yes|\n",
            "+-------+\n",
            "\n"
          ]
        }
      ]
    },
    {
      "cell_type": "code",
      "source": [
        "DataFrame2.select('contact').distinct().show()"
      ],
      "metadata": {
        "colab": {
          "base_uri": "https://localhost:8080/"
        },
        "id": "hWQ74GzenlIw",
        "outputId": "9d82bbd4-bf1b-456d-dca9-8f34ba027742"
      },
      "execution_count": 23,
      "outputs": [
        {
          "output_type": "stream",
          "name": "stdout",
          "text": [
            "+---------+\n",
            "|  contact|\n",
            "+---------+\n",
            "| cellular|\n",
            "|telephone|\n",
            "+---------+\n",
            "\n"
          ]
        }
      ]
    },
    {
      "cell_type": "code",
      "source": [
        "DataFrame2.select('month').distinct().show()"
      ],
      "metadata": {
        "colab": {
          "base_uri": "https://localhost:8080/"
        },
        "id": "Pn8e_iXDnpUN",
        "outputId": "3d783a1b-a95d-4cc8-dc09-886c9afd3905"
      },
      "execution_count": 24,
      "outputs": [
        {
          "output_type": "stream",
          "name": "stdout",
          "text": [
            "+-----+\n",
            "|month|\n",
            "+-----+\n",
            "|  jun|\n",
            "|  aug|\n",
            "|  may|\n",
            "|  sep|\n",
            "|  mar|\n",
            "|  oct|\n",
            "|  jul|\n",
            "|  nov|\n",
            "|  apr|\n",
            "|  dec|\n",
            "+-----+\n",
            "\n"
          ]
        }
      ]
    },
    {
      "cell_type": "code",
      "source": [
        "DataFrame2.select('day_of_week').distinct().show()"
      ],
      "metadata": {
        "colab": {
          "base_uri": "https://localhost:8080/"
        },
        "id": "XnffA3tmnw9V",
        "outputId": "74202595-54e5-4441-d6fd-eae28cf3a894"
      },
      "execution_count": 25,
      "outputs": [
        {
          "output_type": "stream",
          "name": "stdout",
          "text": [
            "+-----------+\n",
            "|day_of_week|\n",
            "+-----------+\n",
            "|        fri|\n",
            "|        thu|\n",
            "|        tue|\n",
            "|        wed|\n",
            "|        mon|\n",
            "+-----------+\n",
            "\n"
          ]
        }
      ]
    },
    {
      "cell_type": "code",
      "source": [
        "DataFrame2.select('poutcome').distinct().show()"
      ],
      "metadata": {
        "colab": {
          "base_uri": "https://localhost:8080/"
        },
        "id": "MIlYTTSqn4Yz",
        "outputId": "916642c4-f1a0-4c6a-9ee7-a2ec113c8dd4"
      },
      "execution_count": 26,
      "outputs": [
        {
          "output_type": "stream",
          "name": "stdout",
          "text": [
            "+-----------+\n",
            "|   poutcome|\n",
            "+-----------+\n",
            "|    success|\n",
            "|    failure|\n",
            "|nonexistent|\n",
            "+-----------+\n",
            "\n"
          ]
        }
      ]
    },
    {
      "cell_type": "code",
      "source": [
        "DataFrame2.select('y').distinct().show()"
      ],
      "metadata": {
        "colab": {
          "base_uri": "https://localhost:8080/"
        },
        "id": "JBE1_hI1n7qn",
        "outputId": "92b9e70e-4908-4b16-8e95-b6eeb5b33d24"
      },
      "execution_count": 27,
      "outputs": [
        {
          "output_type": "stream",
          "name": "stdout",
          "text": [
            "+---+\n",
            "|  y|\n",
            "+---+\n",
            "| no|\n",
            "|yes|\n",
            "+---+\n",
            "\n"
          ]
        }
      ]
    },
    {
      "cell_type": "markdown",
      "source": [
        "**Feature Distribution using Histogram - For both Categorical and Numeric Columns**"
      ],
      "metadata": {
        "id": "-7ajDtYZrTQg"
      }
    },
    {
      "cell_type": "code",
      "source": [
        "from matplotlib import cm\n",
        "figure = plt.figure(figsize=(25,15)) ## Plot Size \n",
        "title = figure.suptitle(\"Feature Distribution\", fontsize=50,\n",
        "                  verticalalignment='center') # Plot Title \n",
        "\n",
        "for col,num in zip(DataFrame2.toPandas().describe().columns, range(1,11)):\n",
        "    ax = figure.add_subplot(3,4,num)\n",
        "    ax.hist(DataFrame2.toPandas()[col])\n",
        "    #plt.style.use('dark_background') \n",
        "    plt.grid(False)\n",
        "    plt.xticks(rotation=45,fontsize=20)\n",
        "    plt.yticks(fontsize=15)\n",
        "    plt.title(col.upper(),fontsize=20)\n",
        "plt.tight_layout()\n",
        "title.set_y(0.95)\n",
        "figure.subplots_adjust(top=0.85,hspace = 0.4)\n",
        "plt.show()"
      ],
      "metadata": {
        "colab": {
          "base_uri": "https://localhost:8080/",
          "height": 945
        },
        "id": "4MVJDMrorSdh",
        "outputId": "899cac97-ca70-40e7-d83f-06349537ea04"
      },
      "execution_count": 28,
      "outputs": [
        {
          "output_type": "display_data",
          "data": {
            "text/plain": [
              "<Figure size 1800x1080 with 10 Axes>"
            ],
            "image/png": "[encoded data removed]"
          },
          "metadata": {
            "needs_background": "light"
          }
        }
      ]
    },
    {
      "cell_type": "code",
      "source": [
        "from matplotlib import cm\n",
        "figure = plt.figure(figsize=(10,10)) ## Plot Size \n",
        "#title = figure.suptitle(\"Feature Distribution\", fontsize=50,verticalalignment='center') # Plot Title \n",
        "\n",
        "#ax = figure.add_subplot()\n",
        "DataFrame2.toPandas()['y'].value_counts().plot(kind='bar')\n",
        "#plt.style.use('dark_background') \n",
        "plt.grid(False)\n",
        "plt.xticks(rotation=0,fontsize=20)\n",
        "plt.yticks(fontsize=15)\n",
        "plt.title('Target Variable',fontsize=28)\n",
        "plt.tight_layout()\n",
        "title.set_y(0.95)\n",
        "#figure.subplots_adjust(top=0.85,hspace = 0.4)\n",
        "plt.show()"
      ],
      "metadata": {
        "colab": {
          "base_uri": "https://localhost:8080/",
          "height": 729
        },
        "id": "0E6pH3UG7TlQ",
        "outputId": "95b205a9-5770-4f56-c738-7355b1ee6033"
      },
      "execution_count": 29,
      "outputs": [
        {
          "output_type": "display_data",
          "data": {
            "text/plain": [
              "<Figure size 720x720 with 1 Axes>"
            ],
            "image/png": "[encoded data removed]"
          },
          "metadata": {
            "needs_background": "light"
          }
        }
      ]
    },
    {
      "cell_type": "markdown",
      "source": [
        "**Encoding the Categorical Columns** "
      ],
      "metadata": {
        "id": "168twv_ir4e7"
      }
    },
    {
      "cell_type": "code",
      "source": [
        "encoder = StringIndexer()\\\n",
        "         .setInputCols ([\"job\"])\\\n",
        "         .setOutputCols ([\"job_encoded\"])\n",
        "Encoder_Model=encoder.fit(DataFrame2)\n",
        "Encoder_DF=Encoder_Model.transform(DataFrame2)\n",
        "\n",
        "\n",
        "encoder = StringIndexer()\\\n",
        "         .setInputCols ([\"marital\"])\\\n",
        "         .setOutputCols ([\"marital_encoded\"])\n",
        "Encoder_Model=encoder.fit(Encoder_DF)\n",
        "Encoder_DF=Encoder_Model.transform(Encoder_DF)\n",
        "\n",
        "encoder = StringIndexer()\\\n",
        "         .setInputCols ([\"education\"])\\\n",
        "         .setOutputCols ([\"education_encoded\"])\n",
        "Encoder_Model=encoder.fit(Encoder_DF)\n",
        "Encoder_DF=Encoder_Model.transform(Encoder_DF)\n",
        "\n",
        "encoder = StringIndexer()\\\n",
        "         .setInputCols ([\"default\"])\\\n",
        "         .setOutputCols ([\"default_encoded\"])\n",
        "Encoder_Model=encoder.fit(Encoder_DF)\n",
        "Encoder_DF=Encoder_Model.transform(Encoder_DF)\n",
        "\n",
        "encoder = StringIndexer()\\\n",
        "         .setInputCols ([\"housing\"])\\\n",
        "         .setOutputCols ([\"housing_encoded\"])\n",
        "Encoder_Model=encoder.fit(Encoder_DF)\n",
        "Encoder_DF=Encoder_Model.transform(Encoder_DF)\n",
        "\n",
        "encoder = StringIndexer()\\\n",
        "         .setInputCols ([\"loan\"])\\\n",
        "         .setOutputCols ([\"loan_encoded\"])\n",
        "Encoder_Model=encoder.fit(Encoder_DF)\n",
        "Encoder_DF=Encoder_Model.transform(Encoder_DF)\n",
        "\n",
        "encoder = StringIndexer()\\\n",
        "         .setInputCols ([\"contact\"])\\\n",
        "         .setOutputCols ([\"contact_encoded\"])\n",
        "Encoder_Model=encoder.fit(Encoder_DF)\n",
        "Encoder_DF=Encoder_Model.transform(Encoder_DF)\n",
        "\n",
        "encoder = StringIndexer()\\\n",
        "         .setInputCols ([\"poutcome\"])\\\n",
        "         .setOutputCols ([\"poutcome_encoded\"])\n",
        "Encoder_Model=encoder.fit(Encoder_DF)\n",
        "Encoder_DF=Encoder_Model.transform(Encoder_DF)\n",
        "\n",
        "encoder = StringIndexer()\\\n",
        "         .setInputCols ([\"month\"])\\\n",
        "         .setOutputCols ([\"month_encoded\"])\n",
        "Encoder_Model=encoder.fit(Encoder_DF)\n",
        "Encoder_DF=Encoder_Model.transform(Encoder_DF)\n",
        "\n",
        "encoder = StringIndexer()\\\n",
        "         .setInputCols ([\"day_of_week\"])\\\n",
        "         .setOutputCols ([\"day_of_week_encoded\"])\n",
        "Encoder_Model=encoder.fit(Encoder_DF)\n",
        "Encoder_DF=Encoder_Model.transform(Encoder_DF)\n",
        "\n",
        "\n",
        "Encoder_DF.toPandas().head(10)"
      ],
      "metadata": {
        "colab": {
          "base_uri": "https://localhost:8080/",
          "height": 456
        },
        "id": "z0_grpEq9DBh",
        "outputId": "c9f04d0a-d947-4388-e9f6-f1034b902238"
      },
      "execution_count": 30,
      "outputs": [
        {
          "output_type": "execute_result",
          "data": {
            "text/plain": [
              "   age          job  marital            education  default housing loan  \\\n",
              "0   56    housemaid  married             basic.4y       no      no   no   \n",
              "1   57     services  married          high.school  unknown      no   no   \n",
              "2   37     services  married          high.school       no     yes   no   \n",
              "3   40       admin.  married             basic.6y       no      no   no   \n",
              "4   56     services  married          high.school       no      no  yes   \n",
              "5   45     services  married             basic.9y  unknown      no   no   \n",
              "6   59       admin.  married  professional.course       no      no   no   \n",
              "7   41  blue-collar  married              unknown  unknown      no   no   \n",
              "8   24   technician   single  professional.course       no     yes   no   \n",
              "9   25     services   single          high.school       no     yes   no   \n",
              "\n",
              "     contact month day_of_week  ...  job_encoded  marital_encoded  \\\n",
              "0  telephone   may         mon  ...          8.0              0.0   \n",
              "1  telephone   may         mon  ...          3.0              0.0   \n",
              "2  telephone   may         mon  ...          3.0              0.0   \n",
              "3  telephone   may         mon  ...          0.0              0.0   \n",
              "4  telephone   may         mon  ...          3.0              0.0   \n",
              "5  telephone   may         mon  ...          3.0              0.0   \n",
              "6  telephone   may         mon  ...          0.0              0.0   \n",
              "7  telephone   may         mon  ...          1.0              0.0   \n",
              "8  telephone   may         mon  ...          2.0              1.0   \n",
              "9  telephone   may         mon  ...          3.0              1.0   \n",
              "\n",
              "   education_encoded  default_encoded housing_encoded  loan_encoded  \\\n",
              "0                4.0              0.0             1.0           0.0   \n",
              "1                1.0              1.0             1.0           0.0   \n",
              "2                1.0              0.0             0.0           0.0   \n",
              "3                5.0              0.0             1.0           0.0   \n",
              "4                1.0              0.0             1.0           1.0   \n",
              "5                2.0              1.0             1.0           0.0   \n",
              "6                3.0              0.0             1.0           0.0   \n",
              "7                6.0              1.0             1.0           0.0   \n",
              "8                3.0              0.0             0.0           0.0   \n",
              "9                1.0              0.0             0.0           0.0   \n",
              "\n",
              "   contact_encoded  poutcome_encoded  month_encoded  day_of_week_encoded  \n",
              "0              1.0               0.0            0.0                  1.0  \n",
              "1              1.0               0.0            0.0                  1.0  \n",
              "2              1.0               0.0            0.0                  1.0  \n",
              "3              1.0               0.0            0.0                  1.0  \n",
              "4              1.0               0.0            0.0                  1.0  \n",
              "5              1.0               0.0            0.0                  1.0  \n",
              "6              1.0               0.0            0.0                  1.0  \n",
              "7              1.0               0.0            0.0                  1.0  \n",
              "8              1.0               0.0            0.0                  1.0  \n",
              "9              1.0               0.0            0.0                  1.0  \n",
              "\n",
              "[10 rows x 31 columns]"
            ],
            "text/html": [
              "\n",
              "  <div id=\"df-df29a62a-8e00-4170-a78d-23d509746fab\">\n",
              "    <div class=\"colab-df-container\">\n",
              "      <div>\n",
              "<style scoped>\n",
              "    .dataframe tbody tr th:only-of-type {\n",
              "        vertical-align: middle;\n",
              "    }\n",
              "\n",
              "    .dataframe tbody tr th {\n",
              "        vertical-align: top;\n",
              "    }\n",
              "\n",
              "    .dataframe thead th {\n",
              "        text-align: right;\n",
              "    }\n",
              "</style>\n",
              "<table border=\"1\" class=\"dataframe\">\n",
              "  <thead>\n",
              "    <tr style=\"text-align: right;\">\n",
              "      <th></th>\n",
              "      <th>age</th>\n",
              "      <th>job</th>\n",
              "      <th>marital</th>\n",
              "      <th>education</th>\n",
              "      <th>default</th>\n",
              "      <th>housing</th>\n",
              "      <th>loan</th>\n",
              "      <th>contact</th>\n",
              "      <th>month</th>\n",
              "      <th>day_of_week</th>\n",
              "      <th>...</th>\n",
              "      <th>job_encoded</th>\n",
              "      <th>marital_encoded</th>\n",
              "      <th>education_encoded</th>\n",
              "      <th>default_encoded</th>\n",
              "      <th>housing_encoded</th>\n",
              "      <th>loan_encoded</th>\n",
              "      <th>contact_encoded</th>\n",
              "      <th>poutcome_encoded</th>\n",
              "      <th>month_encoded</th>\n",
              "      <th>day_of_week_encoded</th>\n",
              "    </tr>\n",
              "  </thead>\n",
              "  <tbody>\n",
              "    <tr>\n",
              "      <th>0</th>\n",
              "      <td>56</td>\n",
              "      <td>housemaid</td>\n",
              "      <td>married</td>\n",
              "      <td>basic.4y</td>\n",
              "      <td>no</td>\n",
              "      <td>no</td>\n",
              "      <td>no</td>\n",
              "      <td>telephone</td>\n",
              "      <td>may</td>\n",
              "      <td>mon</td>\n",
              "      <td>...</td>\n",
              "      <td>8.0</td>\n",
              "      <td>0.0</td>\n",
              "      <td>4.0</td>\n",
              "      <td>0.0</td>\n",
              "      <td>1.0</td>\n",
              "      <td>0.0</td>\n",
              "      <td>1.0</td>\n",
              "      <td>0.0</td>\n",
              "      <td>0.0</td>\n",
              "      <td>1.0</td>\n",
              "    </tr>\n",
              "    <tr>\n",
              "      <th>1</th>\n",
              "      <td>57</td>\n",
              "      <td>services</td>\n",
              "      <td>married</td>\n",
              "      <td>high.school</td>\n",
              "      <td>unknown</td>\n",
              "      <td>no</td>\n",
              "      <td>no</td>\n",
              "      <td>telephone</td>\n",
              "      <td>may</td>\n",
              "      <td>mon</td>\n",
              "      <td>...</td>\n",
              "      <td>3.0</td>\n",
              "      <td>0.0</td>\n",
              "      <td>1.0</td>\n",
              "      <td>1.0</td>\n",
              "      <td>1.0</td>\n",
              "      <td>0.0</td>\n",
              "      <td>1.0</td>\n",
              "      <td>0.0</td>\n",
              "      <td>0.0</td>\n",
              "      <td>1.0</td>\n",
              "    </tr>\n",
              "    <tr>\n",
              "      <th>2</th>\n",
              "      <td>37</td>\n",
              "      <td>services</td>\n",
              "      <td>married</td>\n",
              "      <td>high.school</td>\n",
              "      <td>no</td>\n",
              "      <td>yes</td>\n",
              "      <td>no</td>\n",
              "      <td>telephone</td>\n",
              "      <td>may</td>\n",
              "      <td>mon</td>\n",
              "      <td>...</td>\n",
              "      <td>3.0</td>\n",
              "      <td>0.0</td>\n",
              "      <td>1.0</td>\n",
              "      <td>0.0</td>\n",
              "      <td>0.0</td>\n",
              "      <td>0.0</td>\n",
              "      <td>1.0</td>\n",
              "      <td>0.0</td>\n",
              "      <td>0.0</td>\n",
              "      <td>1.0</td>\n",
              "    </tr>\n",
              "    <tr>\n",
              "      <th>3</th>\n",
              "      <td>40</td>\n",
              "      <td>admin.</td>\n",
              "      <td>married</td>\n",
              "      <td>basic.6y</td>\n",
              "      <td>no</td>\n",
              "      <td>no</td>\n",
              "      <td>no</td>\n",
              "      <td>telephone</td>\n",
              "      <td>may</td>\n",
              "      <td>mon</td>\n",
              "      <td>...</td>\n",
              "      <td>0.0</td>\n",
              "      <td>0.0</td>\n",
              "      <td>5.0</td>\n",
              "      <td>0.0</td>\n",
              "      <td>1.0</td>\n",
              "      <td>0.0</td>\n",
              "      <td>1.0</td>\n",
              "      <td>0.0</td>\n",
              "      <td>0.0</td>\n",
              "      <td>1.0</td>\n",
              "    </tr>\n",
              "    <tr>\n",
              "      <th>4</th>\n",
              "      <td>56</td>\n",
              "      <td>services</td>\n",
              "      <td>married</td>\n",
              "      <td>high.school</td>\n",
              "      <td>no</td>\n",
              "      <td>no</td>\n",
              "      <td>yes</td>\n",
              "      <td>telephone</td>\n",
              "      <td>may</td>\n",
              "      <td>mon</td>\n",
              "      <td>...</td>\n",
              "      <td>3.0</td>\n",
              "      <td>0.0</td>\n",
              "      <td>1.0</td>\n",
              "      <td>0.0</td>\n",
              "      <td>1.0</td>\n",
              "      <td>1.0</td>\n",
              "      <td>1.0</td>\n",
              "      <td>0.0</td>\n",
              "      <td>0.0</td>\n",
              "      <td>1.0</td>\n",
              "    </tr>\n",
              "    <tr>\n",
              "      <th>5</th>\n",
              "      <td>45</td>\n",
              "      <td>services</td>\n",
              "      <td>married</td>\n",
              "      <td>basic.9y</td>\n",
              "      <td>unknown</td>\n",
              "      <td>no</td>\n",
              "      <td>no</td>\n",
              "      <td>telephone</td>\n",
              "      <td>may</td>\n",
              "      <td>mon</td>\n",
              "      <td>...</td>\n",
              "      <td>3.0</td>\n",
              "      <td>0.0</td>\n",
              "      <td>2.0</td>\n",
              "      <td>1.0</td>\n",
              "      <td>1.0</td>\n",
              "      <td>0.0</td>\n",
              "      <td>1.0</td>\n",
              "      <td>0.0</td>\n",
              "      <td>0.0</td>\n",
              "      <td>1.0</td>\n",
              "    </tr>\n",
              "    <tr>\n",
              "      <th>6</th>\n",
              "      <td>59</td>\n",
              "      <td>admin.</td>\n",
              "      <td>married</td>\n",
              "      <td>professional.course</td>\n",
              "      <td>no</td>\n",
              "      <td>no</td>\n",
              "      <td>no</td>\n",
              "      <td>telephone</td>\n",
              "      <td>may</td>\n",
              "      <td>mon</td>\n",
              "      <td>...</td>\n",
              "      <td>0.0</td>\n",
              "      <td>0.0</td>\n",
              "      <td>3.0</td>\n",
              "      <td>0.0</td>\n",
              "      <td>1.0</td>\n",
              "      <td>0.0</td>\n",
              "      <td>1.0</td>\n",
              "      <td>0.0</td>\n",
              "      <td>0.0</td>\n",
              "      <td>1.0</td>\n",
              "    </tr>\n",
              "    <tr>\n",
              "      <th>7</th>\n",
              "      <td>41</td>\n",
              "      <td>blue-collar</td>\n",
              "      <td>married</td>\n",
              "      <td>unknown</td>\n",
              "      <td>unknown</td>\n",
              "      <td>no</td>\n",
              "      <td>no</td>\n",
              "      <td>telephone</td>\n",
              "      <td>may</td>\n",
              "      <td>mon</td>\n",
              "      <td>...</td>\n",
              "      <td>1.0</td>\n",
              "      <td>0.0</td>\n",
              "      <td>6.0</td>\n",
              "      <td>1.0</td>\n",
              "      <td>1.0</td>\n",
              "      <td>0.0</td>\n",
              "      <td>1.0</td>\n",
              "      <td>0.0</td>\n",
              "      <td>0.0</td>\n",
              "      <td>1.0</td>\n",
              "    </tr>\n",
              "    <tr>\n",
              "      <th>8</th>\n",
              "      <td>24</td>\n",
              "      <td>technician</td>\n",
              "      <td>single</td>\n",
              "      <td>professional.course</td>\n",
              "      <td>no</td>\n",
              "      <td>yes</td>\n",
              "      <td>no</td>\n",
              "      <td>telephone</td>\n",
              "      <td>may</td>\n",
              "      <td>mon</td>\n",
              "      <td>...</td>\n",
              "      <td>2.0</td>\n",
              "      <td>1.0</td>\n",
              "      <td>3.0</td>\n",
              "      <td>0.0</td>\n",
              "      <td>0.0</td>\n",
              "      <td>0.0</td>\n",
              "      <td>1.0</td>\n",
              "      <td>0.0</td>\n",
              "      <td>0.0</td>\n",
              "      <td>1.0</td>\n",
              "    </tr>\n",
              "    <tr>\n",
              "      <th>9</th>\n",
              "      <td>25</td>\n",
              "      <td>services</td>\n",
              "      <td>single</td>\n",
              "      <td>high.school</td>\n",
              "      <td>no</td>\n",
              "      <td>yes</td>\n",
              "      <td>no</td>\n",
              "      <td>telephone</td>\n",
              "      <td>may</td>\n",
              "      <td>mon</td>\n",
              "      <td>...</td>\n",
              "      <td>3.0</td>\n",
              "      <td>1.0</td>\n",
              "      <td>1.0</td>\n",
              "      <td>0.0</td>\n",
              "      <td>0.0</td>\n",
              "      <td>0.0</td>\n",
              "      <td>1.0</td>\n",
              "      <td>0.0</td>\n",
              "      <td>0.0</td>\n",
              "      <td>1.0</td>\n",
              "    </tr>\n",
              "  </tbody>\n",
              "</table>\n",
              "<p>10 rows × 31 columns</p>\n",
              "</div>\n",
              "      <button class=\"colab-df-convert\" onclick=\"convertToInteractive('df-df29a62a-8e00-4170-a78d-23d509746fab')\"\n",
              "              title=\"Convert this dataframe to an interactive table.\"\n",
              "              style=\"display:none;\">\n",
              "        \n",
              "  <svg xmlns=\"http://www.w3.org/2000/svg\" height=\"24px\"viewBox=\"0 0 24 24\"\n",
              "       width=\"24px\">\n",
              "    <path d=\"M0 0h24v24H0V0z\" fill=\"none\"/>\n",
              "    <path d=\"M18.56 5.44l.94 2.06.94-2.06 2.06-.94-2.06-.94-.94-2.06-.94 2.06-2.06.94zm-11 1L8.5 8.5l.94-2.06 2.06-.94-2.06-.94L8.5 2.5l-.94 2.06-2.06.94zm10 10l.94 2.06.94-2.06 2.06-.94-2.06-.94-.94-2.06-.94 2.06-2.06.94z\"/><path d=\"M17.41 7.96l-1.37-1.37c-.4-.4-.92-.59-1.43-.59-.52 0-1.04.2-1.43.59L10.3 9.45l-7.72 7.72c-.78.78-.78 2.05 0 2.83L4 21.41c.39.39.9.59 1.41.59.51 0 1.02-.2 1.41-.59l7.78-7.78 2.81-2.81c.8-.78.8-2.07 0-2.86zM5.41 20L4 18.59l7.72-7.72 1.47 1.35L5.41 20z\"/>\n",
              "  </svg>\n",
              "      </button>\n",
              "      \n",
              "  <style>\n",
              "    .colab-df-container {\n",
              "      display:flex;\n",
              "      flex-wrap:wrap;\n",
              "      gap: 12px;\n",
              "    }\n",
              "\n",
              "    .colab-df-convert {\n",
              "      background-color: #E8F0FE;\n",
              "      border: none;\n",
              "      border-radius: 50%;\n",
              "      cursor: pointer;\n",
              "      display: none;\n",
              "      fill: #1967D2;\n",
              "      height: 32px;\n",
              "      padding: 0 0 0 0;\n",
              "      width: 32px;\n",
              "    }\n",
              "\n",
              "    .colab-df-convert:hover {\n",
              "      background-color: #E2EBFA;\n",
              "      box-shadow: 0px 1px 2px rgba(60, 64, 67, 0.3), 0px 1px 3px 1px rgba(60, 64, 67, 0.15);\n",
              "      fill: #174EA6;\n",
              "    }\n",
              "\n",
              "    [theme=dark] .colab-df-convert {\n",
              "      background-color: #3B4455;\n",
              "      fill: #D2E3FC;\n",
              "    }\n",
              "\n",
              "    [theme=dark] .colab-df-convert:hover {\n",
              "      background-color: #434B5C;\n",
              "      box-shadow: 0px 1px 3px 1px rgba(0, 0, 0, 0.15);\n",
              "      filter: drop-shadow(0px 1px 2px rgba(0, 0, 0, 0.3));\n",
              "      fill: #FFFFFF;\n",
              "    }\n",
              "  </style>\n",
              "\n",
              "      <script>\n",
              "        const buttonEl =\n",
              "          document.querySelector('#df-df29a62a-8e00-4170-a78d-23d509746fab button.colab-df-convert');\n",
              "        buttonEl.style.display =\n",
              "          google.colab.kernel.accessAllowed ? 'block' : 'none';\n",
              "\n",
              "        async function convertToInteractive(key) {\n",
              "          const element = document.querySelector('#df-df29a62a-8e00-4170-a78d-23d509746fab');\n",
              "          const dataTable =\n",
              "            await google.colab.kernel.invokeFunction('convertToInteractive',\n",
              "                                                     [key], {});\n",
              "          if (!dataTable) return;\n",
              "\n",
              "          const docLinkHtml = 'Like what you see? Visit the ' +\n",
              "            '<a target=\"_blank\" href=https://colab.research.google.com/notebooks/data_table.ipynb>data table notebook</a>'\n",
              "            + ' to learn more about interactive tables.';\n",
              "          element.innerHTML = '';\n",
              "          dataTable['output_type'] = 'display_data';\n",
              "          await google.colab.output.renderOutput(dataTable, element);\n",
              "          const docLink = document.createElement('div');\n",
              "          docLink.innerHTML = docLinkHtml;\n",
              "          element.appendChild(docLink);\n",
              "        }\n",
              "      </script>\n",
              "    </div>\n",
              "  </div>\n",
              "  "
            ]
          },
          "metadata": {},
          "execution_count": 30
        }
      ]
    },
    {
      "cell_type": "code",
      "source": [
        "Encoder_DF.printSchema()"
      ],
      "metadata": {
        "colab": {
          "base_uri": "https://localhost:8080/"
        },
        "id": "-hlVulFDndzU",
        "outputId": "9aa6b6b1-2a14-4c2b-87a3-ca522f031860"
      },
      "execution_count": 31,
      "outputs": [
        {
          "output_type": "stream",
          "name": "stdout",
          "text": [
            "root\n",
            " |-- age: integer (nullable = true)\n",
            " |-- job: string (nullable = true)\n",
            " |-- marital: string (nullable = true)\n",
            " |-- education: string (nullable = true)\n",
            " |-- default: string (nullable = true)\n",
            " |-- housing: string (nullable = true)\n",
            " |-- loan: string (nullable = true)\n",
            " |-- contact: string (nullable = true)\n",
            " |-- month: string (nullable = true)\n",
            " |-- day_of_week: string (nullable = true)\n",
            " |-- duration: integer (nullable = true)\n",
            " |-- campaign: integer (nullable = true)\n",
            " |-- pdays: integer (nullable = true)\n",
            " |-- previous: integer (nullable = true)\n",
            " |-- poutcome: string (nullable = true)\n",
            " |-- emp_var_rate: double (nullable = true)\n",
            " |-- cons_price_idx: double (nullable = true)\n",
            " |-- cons_conf_idx: double (nullable = true)\n",
            " |-- euribor3m: double (nullable = true)\n",
            " |-- nr_employed: double (nullable = true)\n",
            " |-- y: string (nullable = true)\n",
            " |-- job_encoded: double (nullable = false)\n",
            " |-- marital_encoded: double (nullable = false)\n",
            " |-- education_encoded: double (nullable = false)\n",
            " |-- default_encoded: double (nullable = false)\n",
            " |-- housing_encoded: double (nullable = false)\n",
            " |-- loan_encoded: double (nullable = false)\n",
            " |-- contact_encoded: double (nullable = false)\n",
            " |-- poutcome_encoded: double (nullable = false)\n",
            " |-- month_encoded: double (nullable = false)\n",
            " |-- day_of_week_encoded: double (nullable = false)\n",
            "\n"
          ]
        }
      ]
    },
    {
      "cell_type": "code",
      "source": [
        "encoder = StringIndexer()\\\n",
        "         .setInputCols ([\"y\"])\\\n",
        "         .setOutputCols ([\"y_encoded\"])\n",
        "Encoder_model=encoder.fit(Encoder_DF)\n",
        "Encoder_DF=Encoder_model.transform(Encoder_DF)"
      ],
      "metadata": {
        "id": "i_JzWd7PopJQ"
      },
      "execution_count": 32,
      "outputs": []
    },
    {
      "cell_type": "code",
      "source": [
        "Encoder_DF.printSchema()"
      ],
      "metadata": {
        "colab": {
          "base_uri": "https://localhost:8080/"
        },
        "id": "CSc0ifXxrY9R",
        "outputId": "92fe05ff-be62-42bb-a835-5c61d2405dc4"
      },
      "execution_count": 33,
      "outputs": [
        {
          "output_type": "stream",
          "name": "stdout",
          "text": [
            "root\n",
            " |-- age: integer (nullable = true)\n",
            " |-- job: string (nullable = true)\n",
            " |-- marital: string (nullable = true)\n",
            " |-- education: string (nullable = true)\n",
            " |-- default: string (nullable = true)\n",
            " |-- housing: string (nullable = true)\n",
            " |-- loan: string (nullable = true)\n",
            " |-- contact: string (nullable = true)\n",
            " |-- month: string (nullable = true)\n",
            " |-- day_of_week: string (nullable = true)\n",
            " |-- duration: integer (nullable = true)\n",
            " |-- campaign: integer (nullable = true)\n",
            " |-- pdays: integer (nullable = true)\n",
            " |-- previous: integer (nullable = true)\n",
            " |-- poutcome: string (nullable = true)\n",
            " |-- emp_var_rate: double (nullable = true)\n",
            " |-- cons_price_idx: double (nullable = true)\n",
            " |-- cons_conf_idx: double (nullable = true)\n",
            " |-- euribor3m: double (nullable = true)\n",
            " |-- nr_employed: double (nullable = true)\n",
            " |-- y: string (nullable = true)\n",
            " |-- job_encoded: double (nullable = false)\n",
            " |-- marital_encoded: double (nullable = false)\n",
            " |-- education_encoded: double (nullable = false)\n",
            " |-- default_encoded: double (nullable = false)\n",
            " |-- housing_encoded: double (nullable = false)\n",
            " |-- loan_encoded: double (nullable = false)\n",
            " |-- contact_encoded: double (nullable = false)\n",
            " |-- poutcome_encoded: double (nullable = false)\n",
            " |-- month_encoded: double (nullable = false)\n",
            " |-- day_of_week_encoded: double (nullable = false)\n",
            " |-- y_encoded: double (nullable = false)\n",
            "\n"
          ]
        }
      ]
    },
    {
      "cell_type": "markdown",
      "source": [
        "**Correlations between Numeric Variables** "
      ],
      "metadata": {
        "id": "WdBzSimgsMSQ"
      }
    },
    {
      "cell_type": "code",
      "source": [
        "CorrInputCols=[\"age\", \"duration\",\"campaign\", \"pdays\", \"previous\", \"emp_var_rate\",\"cons_price_idx\",\"cons_conf_idx\",\"nr_employed\",\"euribor3m\"]"
      ],
      "metadata": {
        "id": "lC52a3oGrgSa"
      },
      "execution_count": 34,
      "outputs": []
    },
    {
      "cell_type": "code",
      "source": [
        "corr_vect_model = VectorAssembler(inputCols=CorrInputCols,\n",
        "                          outputCol='vect_features_corrs')"
      ],
      "metadata": {
        "id": "1kaYIHxasZzh"
      },
      "execution_count": 35,
      "outputs": []
    },
    {
      "cell_type": "code",
      "source": [
        "corr_vect_df = corr_vect_model.setHandleInvalid(\"skip\").transform(Encoder_DF)"
      ],
      "metadata": {
        "id": "y-Qmj8yusdgK"
      },
      "execution_count": 36,
      "outputs": []
    },
    {
      "cell_type": "code",
      "source": [
        "from pyspark.ml.stat import Correlation"
      ],
      "metadata": {
        "id": "nnWSZx5msmfh"
      },
      "execution_count": 37,
      "outputs": []
    },
    {
      "cell_type": "code",
      "source": [
        "corr_vector_col = 'vect_features_corrs'\n",
        "matrix = Correlation.corr(corr_vect_df, corr_vector_col)"
      ],
      "metadata": {
        "id": "D1t3X86Psoyp"
      },
      "execution_count": 38,
      "outputs": []
    },
    {
      "cell_type": "code",
      "source": [
        "matrix = Correlation.corr(corr_vect_df, 'vect_features_corrs').collect()[0][0] \n",
        "corr_matrix = matrix.toArray().tolist() \n",
        "corr_matrix_df = pd.DataFrame(data=corr_matrix, columns = CorrInputCols, index=CorrInputCols) \n",
        "corr_matrix_df .style.background_gradient(cmap='coolwarm').set_precision(2)"
      ],
      "metadata": {
        "colab": {
          "base_uri": "https://localhost:8080/",
          "height": 398
        },
        "id": "kzNDzMcsv2RM",
        "outputId": "85b373dc-b459-4f62-d716-54af3c994cdf"
      },
      "execution_count": 39,
      "outputs": [
        {
          "output_type": "stream",
          "name": "stderr",
          "text": [
            "/usr/local/lib/python3.7/dist-packages/ipykernel_launcher.py:4: FutureWarning: this method is deprecated in favour of `Styler.format(precision=..)`\n",
            "  after removing the cwd from sys.path.\n"
          ]
        },
        {
          "output_type": "execute_result",
          "data": {
            "text/plain": [
              "<pandas.io.formats.style.Styler at 0x7ff568f55490>"
            ],
            "text/html": [
              "<style type=\"text/css\">\n",
              "#T_1d27c_row0_col0, #T_1d27c_row1_col1, #T_1d27c_row2_col2, #T_1d27c_row3_col3, #T_1d27c_row4_col4, #T_1d27c_row5_col5, #T_1d27c_row6_col6, #T_1d27c_row7_col7, #T_1d27c_row8_col8, #T_1d27c_row9_col9 {\n",
              "  background-color: #b40426;\n",
              "  color: #f1f1f1;\n",
              "}\n",
              "#T_1d27c_row0_col1 {\n",
              "  background-color: #4e68d8;\n",
              "  color: #f1f1f1;\n",
              "}\n",
              "#T_1d27c_row0_col2, #T_1d27c_row1_col7 {\n",
              "  background-color: #516ddb;\n",
              "  color: #f1f1f1;\n",
              "}\n",
              "#T_1d27c_row0_col3 {\n",
              "  background-color: #afcafc;\n",
              "  color: #000000;\n",
              "}\n",
              "#T_1d27c_row0_col4, #T_1d27c_row1_col4 {\n",
              "  background-color: #bbd1f8;\n",
              "  color: #000000;\n",
              "}\n",
              "#T_1d27c_row0_col5 {\n",
              "  background-color: #9dbdff;\n",
              "  color: #000000;\n",
              "}\n",
              "#T_1d27c_row0_col6 {\n",
              "  background-color: #7093f3;\n",
              "  color: #f1f1f1;\n",
              "}\n",
              "#T_1d27c_row0_col7 {\n",
              "  background-color: #7b9ff9;\n",
              "  color: #f1f1f1;\n",
              "}\n",
              "#T_1d27c_row0_col8 {\n",
              "  background-color: #a6c4fe;\n",
              "  color: #000000;\n",
              "}\n",
              "#T_1d27c_row0_col9, #T_1d27c_row2_col4 {\n",
              "  background-color: #a5c3fe;\n",
              "  color: #000000;\n",
              "}\n",
              "#T_1d27c_row1_col0, #T_1d27c_row5_col0, #T_1d27c_row6_col0 {\n",
              "  background-color: #445acc;\n",
              "  color: #f1f1f1;\n",
              "}\n",
              "#T_1d27c_row1_col2 {\n",
              "  background-color: #3c4ec2;\n",
              "  color: #f1f1f1;\n",
              "}\n",
              "#T_1d27c_row1_col3 {\n",
              "  background-color: #adc9fd;\n",
              "  color: #000000;\n",
              "}\n",
              "#T_1d27c_row1_col5, #T_1d27c_row2_col6 {\n",
              "  background-color: #96b7ff;\n",
              "  color: #000000;\n",
              "}\n",
              "#T_1d27c_row1_col6 {\n",
              "  background-color: #7295f4;\n",
              "  color: #f1f1f1;\n",
              "}\n",
              "#T_1d27c_row1_col8 {\n",
              "  background-color: #9fbfff;\n",
              "  color: #000000;\n",
              "}\n",
              "#T_1d27c_row1_col9 {\n",
              "  background-color: #9bbcff;\n",
              "  color: #000000;\n",
              "}\n",
              "#T_1d27c_row2_col0, #T_1d27c_row4_col7, #T_1d27c_row9_col1 {\n",
              "  background-color: #455cce;\n",
              "  color: #f1f1f1;\n",
              "}\n",
              "#T_1d27c_row2_col1, #T_1d27c_row3_col0, #T_1d27c_row3_col4, #T_1d27c_row3_col7, #T_1d27c_row4_col2, #T_1d27c_row4_col3, #T_1d27c_row4_col5, #T_1d27c_row4_col6, #T_1d27c_row4_col8, #T_1d27c_row4_col9 {\n",
              "  background-color: #3b4cc0;\n",
              "  color: #f1f1f1;\n",
              "}\n",
              "#T_1d27c_row2_col3, #T_1d27c_row2_col9 {\n",
              "  background-color: #c1d4f4;\n",
              "  color: #000000;\n",
              "}\n",
              "#T_1d27c_row2_col5, #T_1d27c_row7_col8 {\n",
              "  background-color: #c0d4f5;\n",
              "  color: #000000;\n",
              "}\n",
              "#T_1d27c_row2_col7, #T_1d27c_row6_col1 {\n",
              "  background-color: #506bda;\n",
              "  color: #f1f1f1;\n",
              "}\n",
              "#T_1d27c_row2_col8 {\n",
              "  background-color: #cad8ef;\n",
              "  color: #000000;\n",
              "}\n",
              "#T_1d27c_row3_col1 {\n",
              "  background-color: #4055c8;\n",
              "  color: #f1f1f1;\n",
              "}\n",
              "#T_1d27c_row3_col2 {\n",
              "  background-color: #6180e9;\n",
              "  color: #f1f1f1;\n",
              "}\n",
              "#T_1d27c_row3_col5 {\n",
              "  background-color: #d9dce1;\n",
              "  color: #000000;\n",
              "}\n",
              "#T_1d27c_row3_col6 {\n",
              "  background-color: #88abfd;\n",
              "  color: #000000;\n",
              "}\n",
              "#T_1d27c_row3_col8 {\n",
              "  background-color: #efcebd;\n",
              "  color: #000000;\n",
              "}\n",
              "#T_1d27c_row3_col9 {\n",
              "  background-color: #e1dad6;\n",
              "  color: #000000;\n",
              "}\n",
              "#T_1d27c_row4_col0 {\n",
              "  background-color: #4b64d5;\n",
              "  color: #f1f1f1;\n",
              "}\n",
              "#T_1d27c_row4_col1 {\n",
              "  background-color: #5572df;\n",
              "  color: #f1f1f1;\n",
              "}\n",
              "#T_1d27c_row5_col1 {\n",
              "  background-color: #465ecf;\n",
              "  color: #f1f1f1;\n",
              "}\n",
              "#T_1d27c_row5_col2 {\n",
              "  background-color: #80a3fa;\n",
              "  color: #f1f1f1;\n",
              "}\n",
              "#T_1d27c_row5_col3 {\n",
              "  background-color: #e7d7ce;\n",
              "  color: #000000;\n",
              "}\n",
              "#T_1d27c_row5_col4 {\n",
              "  background-color: #5a78e4;\n",
              "  color: #f1f1f1;\n",
              "}\n",
              "#T_1d27c_row5_col6 {\n",
              "  background-color: #eb7d62;\n",
              "  color: #f1f1f1;\n",
              "}\n",
              "#T_1d27c_row5_col7 {\n",
              "  background-color: #92b4fe;\n",
              "  color: #000000;\n",
              "}\n",
              "#T_1d27c_row5_col8 {\n",
              "  background-color: #ca3b37;\n",
              "  color: #f1f1f1;\n",
              "}\n",
              "#T_1d27c_row5_col9 {\n",
              "  background-color: #ba162b;\n",
              "  color: #f1f1f1;\n",
              "}\n",
              "#T_1d27c_row6_col2 {\n",
              "  background-color: #799cf8;\n",
              "  color: #f1f1f1;\n",
              "}\n",
              "#T_1d27c_row6_col3 {\n",
              "  background-color: #c6d6f1;\n",
              "  color: #000000;\n",
              "}\n",
              "#T_1d27c_row6_col4 {\n",
              "  background-color: #89acfd;\n",
              "  color: #000000;\n",
              "}\n",
              "#T_1d27c_row6_col5 {\n",
              "  background-color: #e57058;\n",
              "  color: #f1f1f1;\n",
              "}\n",
              "#T_1d27c_row6_col7 {\n",
              "  background-color: #6687ed;\n",
              "  color: #f1f1f1;\n",
              "}\n",
              "#T_1d27c_row6_col8 {\n",
              "  background-color: #f7b396;\n",
              "  color: #000000;\n",
              "}\n",
              "#T_1d27c_row6_col9 {\n",
              "  background-color: #f08a6c;\n",
              "  color: #f1f1f1;\n",
              "}\n",
              "#T_1d27c_row7_col0 {\n",
              "  background-color: #6c8ff1;\n",
              "  color: #f1f1f1;\n",
              "}\n",
              "#T_1d27c_row7_col1, #T_1d27c_row7_col2 {\n",
              "  background-color: #4c66d6;\n",
              "  color: #f1f1f1;\n",
              "}\n",
              "#T_1d27c_row7_col3 {\n",
              "  background-color: #a3c2fe;\n",
              "  color: #000000;\n",
              "}\n",
              "#T_1d27c_row7_col4, #T_1d27c_row9_col7 {\n",
              "  background-color: #abc8fd;\n",
              "  color: #000000;\n",
              "}\n",
              "#T_1d27c_row7_col5 {\n",
              "  background-color: #cbd8ee;\n",
              "  color: #000000;\n",
              "}\n",
              "#T_1d27c_row7_col6 {\n",
              "  background-color: #81a4fb;\n",
              "  color: #f1f1f1;\n",
              "}\n",
              "#T_1d27c_row7_col9 {\n",
              "  background-color: #dddcdc;\n",
              "  color: #000000;\n",
              "}\n",
              "#T_1d27c_row8_col0 {\n",
              "  background-color: #3f53c6;\n",
              "  color: #f1f1f1;\n",
              "}\n",
              "#T_1d27c_row8_col1 {\n",
              "  background-color: #4257c9;\n",
              "  color: #f1f1f1;\n",
              "}\n",
              "#T_1d27c_row8_col2 {\n",
              "  background-color: #7da0f9;\n",
              "  color: #f1f1f1;\n",
              "}\n",
              "#T_1d27c_row8_col3, #T_1d27c_row8_col6 {\n",
              "  background-color: #f2cab5;\n",
              "  color: #000000;\n",
              "}\n",
              "#T_1d27c_row8_col4 {\n",
              "  background-color: #4a63d3;\n",
              "  color: #f1f1f1;\n",
              "}\n",
              "#T_1d27c_row8_col5 {\n",
              "  background-color: #cb3e38;\n",
              "  color: #f1f1f1;\n",
              "}\n",
              "#T_1d27c_row8_col7 {\n",
              "  background-color: #7396f5;\n",
              "  color: #f1f1f1;\n",
              "}\n",
              "#T_1d27c_row8_col9, #T_1d27c_row9_col8 {\n",
              "  background-color: #c12b30;\n",
              "  color: #f1f1f1;\n",
              "}\n",
              "#T_1d27c_row9_col0 {\n",
              "  background-color: #485fd1;\n",
              "  color: #f1f1f1;\n",
              "}\n",
              "#T_1d27c_row9_col2 {\n",
              "  background-color: #7a9df8;\n",
              "  color: #f1f1f1;\n",
              "}\n",
              "#T_1d27c_row9_col3 {\n",
              "  background-color: #ead4c8;\n",
              "  color: #000000;\n",
              "}\n",
              "#T_1d27c_row9_col4 {\n",
              "  background-color: #5470de;\n",
              "  color: #f1f1f1;\n",
              "}\n",
              "#T_1d27c_row9_col5 {\n",
              "  background-color: #bb1b2c;\n",
              "  color: #f1f1f1;\n",
              "}\n",
              "#T_1d27c_row9_col6 {\n",
              "  background-color: #f59d7e;\n",
              "  color: #000000;\n",
              "}\n",
              "</style>\n",
              "<table id=\"T_1d27c_\" class=\"dataframe\">\n",
              "  <thead>\n",
              "    <tr>\n",
              "      <th class=\"blank level0\" >&nbsp;</th>\n",
              "      <th class=\"col_heading level0 col0\" >age</th>\n",
              "      <th class=\"col_heading level0 col1\" >duration</th>\n",
              "      <th class=\"col_heading level0 col2\" >campaign</th>\n",
              "      <th class=\"col_heading level0 col3\" >pdays</th>\n",
              "      <th class=\"col_heading level0 col4\" >previous</th>\n",
              "      <th class=\"col_heading level0 col5\" >emp_var_rate</th>\n",
              "      <th class=\"col_heading level0 col6\" >cons_price_idx</th>\n",
              "      <th class=\"col_heading level0 col7\" >cons_conf_idx</th>\n",
              "      <th class=\"col_heading level0 col8\" >nr_employed</th>\n",
              "      <th class=\"col_heading level0 col9\" >euribor3m</th>\n",
              "    </tr>\n",
              "  </thead>\n",
              "  <tbody>\n",
              "    <tr>\n",
              "      <th id=\"T_1d27c_level0_row0\" class=\"row_heading level0 row0\" >age</th>\n",
              "      <td id=\"T_1d27c_row0_col0\" class=\"data row0 col0\" >1.00</td>\n",
              "      <td id=\"T_1d27c_row0_col1\" class=\"data row0 col1\" >-0.00</td>\n",
              "      <td id=\"T_1d27c_row0_col2\" class=\"data row0 col2\" >0.00</td>\n",
              "      <td id=\"T_1d27c_row0_col3\" class=\"data row0 col3\" >-0.03</td>\n",
              "      <td id=\"T_1d27c_row0_col4\" class=\"data row0 col4\" >0.02</td>\n",
              "      <td id=\"T_1d27c_row0_col5\" class=\"data row0 col5\" >-0.00</td>\n",
              "      <td id=\"T_1d27c_row0_col6\" class=\"data row0 col6\" >0.00</td>\n",
              "      <td id=\"T_1d27c_row0_col7\" class=\"data row0 col7\" >0.13</td>\n",
              "      <td id=\"T_1d27c_row0_col8\" class=\"data row0 col8\" >-0.02</td>\n",
              "      <td id=\"T_1d27c_row0_col9\" class=\"data row0 col9\" >0.01</td>\n",
              "    </tr>\n",
              "    <tr>\n",
              "      <th id=\"T_1d27c_level0_row1\" class=\"row_heading level0 row1\" >duration</th>\n",
              "      <td id=\"T_1d27c_row1_col0\" class=\"data row1 col0\" >-0.00</td>\n",
              "      <td id=\"T_1d27c_row1_col1\" class=\"data row1 col1\" >1.00</td>\n",
              "      <td id=\"T_1d27c_row1_col2\" class=\"data row1 col2\" >-0.07</td>\n",
              "      <td id=\"T_1d27c_row1_col3\" class=\"data row1 col3\" >-0.05</td>\n",
              "      <td id=\"T_1d27c_row1_col4\" class=\"data row1 col4\" >0.02</td>\n",
              "      <td id=\"T_1d27c_row1_col5\" class=\"data row1 col5\" >-0.03</td>\n",
              "      <td id=\"T_1d27c_row1_col6\" class=\"data row1 col6\" >0.01</td>\n",
              "      <td id=\"T_1d27c_row1_col7\" class=\"data row1 col7\" >-0.01</td>\n",
              "      <td id=\"T_1d27c_row1_col8\" class=\"data row1 col8\" >-0.04</td>\n",
              "      <td id=\"T_1d27c_row1_col9\" class=\"data row1 col9\" >-0.03</td>\n",
              "    </tr>\n",
              "    <tr>\n",
              "      <th id=\"T_1d27c_level0_row2\" class=\"row_heading level0 row2\" >campaign</th>\n",
              "      <td id=\"T_1d27c_row2_col0\" class=\"data row2 col0\" >0.00</td>\n",
              "      <td id=\"T_1d27c_row2_col1\" class=\"data row2 col1\" >-0.07</td>\n",
              "      <td id=\"T_1d27c_row2_col2\" class=\"data row2 col2\" >1.00</td>\n",
              "      <td id=\"T_1d27c_row2_col3\" class=\"data row2 col3\" >0.05</td>\n",
              "      <td id=\"T_1d27c_row2_col4\" class=\"data row2 col4\" >-0.08</td>\n",
              "      <td id=\"T_1d27c_row2_col5\" class=\"data row2 col5\" >0.15</td>\n",
              "      <td id=\"T_1d27c_row2_col6\" class=\"data row2 col6\" >0.13</td>\n",
              "      <td id=\"T_1d27c_row2_col7\" class=\"data row2 col7\" >-0.01</td>\n",
              "      <td id=\"T_1d27c_row2_col8\" class=\"data row2 col8\" >0.14</td>\n",
              "      <td id=\"T_1d27c_row2_col9\" class=\"data row2 col9\" >0.14</td>\n",
              "    </tr>\n",
              "    <tr>\n",
              "      <th id=\"T_1d27c_level0_row3\" class=\"row_heading level0 row3\" >pdays</th>\n",
              "      <td id=\"T_1d27c_row3_col0\" class=\"data row3 col0\" >-0.03</td>\n",
              "      <td id=\"T_1d27c_row3_col1\" class=\"data row3 col1\" >-0.05</td>\n",
              "      <td id=\"T_1d27c_row3_col2\" class=\"data row3 col2\" >0.05</td>\n",
              "      <td id=\"T_1d27c_row3_col3\" class=\"data row3 col3\" >1.00</td>\n",
              "      <td id=\"T_1d27c_row3_col4\" class=\"data row3 col4\" >-0.59</td>\n",
              "      <td id=\"T_1d27c_row3_col5\" class=\"data row3 col5\" >0.27</td>\n",
              "      <td id=\"T_1d27c_row3_col6\" class=\"data row3 col6\" >0.08</td>\n",
              "      <td id=\"T_1d27c_row3_col7\" class=\"data row3 col7\" >-0.09</td>\n",
              "      <td id=\"T_1d27c_row3_col8\" class=\"data row3 col8\" >0.37</td>\n",
              "      <td id=\"T_1d27c_row3_col9\" class=\"data row3 col9\" >0.30</td>\n",
              "    </tr>\n",
              "    <tr>\n",
              "      <th id=\"T_1d27c_level0_row4\" class=\"row_heading level0 row4\" >previous</th>\n",
              "      <td id=\"T_1d27c_row4_col0\" class=\"data row4 col0\" >0.02</td>\n",
              "      <td id=\"T_1d27c_row4_col1\" class=\"data row4 col1\" >0.02</td>\n",
              "      <td id=\"T_1d27c_row4_col2\" class=\"data row4 col2\" >-0.08</td>\n",
              "      <td id=\"T_1d27c_row4_col3\" class=\"data row4 col3\" >-0.59</td>\n",
              "      <td id=\"T_1d27c_row4_col4\" class=\"data row4 col4\" >1.00</td>\n",
              "      <td id=\"T_1d27c_row4_col5\" class=\"data row4 col5\" >-0.42</td>\n",
              "      <td id=\"T_1d27c_row4_col6\" class=\"data row4 col6\" >-0.20</td>\n",
              "      <td id=\"T_1d27c_row4_col7\" class=\"data row4 col7\" >-0.05</td>\n",
              "      <td id=\"T_1d27c_row4_col8\" class=\"data row4 col8\" >-0.50</td>\n",
              "      <td id=\"T_1d27c_row4_col9\" class=\"data row4 col9\" >-0.45</td>\n",
              "    </tr>\n",
              "    <tr>\n",
              "      <th id=\"T_1d27c_level0_row5\" class=\"row_heading level0 row5\" >emp_var_rate</th>\n",
              "      <td id=\"T_1d27c_row5_col0\" class=\"data row5 col0\" >-0.00</td>\n",
              "      <td id=\"T_1d27c_row5_col1\" class=\"data row5 col1\" >-0.03</td>\n",
              "      <td id=\"T_1d27c_row5_col2\" class=\"data row5 col2\" >0.15</td>\n",
              "      <td id=\"T_1d27c_row5_col3\" class=\"data row5 col3\" >0.27</td>\n",
              "      <td id=\"T_1d27c_row5_col4\" class=\"data row5 col4\" >-0.42</td>\n",
              "      <td id=\"T_1d27c_row5_col5\" class=\"data row5 col5\" >1.00</td>\n",
              "      <td id=\"T_1d27c_row5_col6\" class=\"data row5 col6\" >0.78</td>\n",
              "      <td id=\"T_1d27c_row5_col7\" class=\"data row5 col7\" >0.20</td>\n",
              "      <td id=\"T_1d27c_row5_col8\" class=\"data row5 col8\" >0.91</td>\n",
              "      <td id=\"T_1d27c_row5_col9\" class=\"data row5 col9\" >0.97</td>\n",
              "    </tr>\n",
              "    <tr>\n",
              "      <th id=\"T_1d27c_level0_row6\" class=\"row_heading level0 row6\" >cons_price_idx</th>\n",
              "      <td id=\"T_1d27c_row6_col0\" class=\"data row6 col0\" >0.00</td>\n",
              "      <td id=\"T_1d27c_row6_col1\" class=\"data row6 col1\" >0.01</td>\n",
              "      <td id=\"T_1d27c_row6_col2\" class=\"data row6 col2\" >0.13</td>\n",
              "      <td id=\"T_1d27c_row6_col3\" class=\"data row6 col3\" >0.08</td>\n",
              "      <td id=\"T_1d27c_row6_col4\" class=\"data row6 col4\" >-0.20</td>\n",
              "      <td id=\"T_1d27c_row6_col5\" class=\"data row6 col5\" >0.78</td>\n",
              "      <td id=\"T_1d27c_row6_col6\" class=\"data row6 col6\" >1.00</td>\n",
              "      <td id=\"T_1d27c_row6_col7\" class=\"data row6 col7\" >0.06</td>\n",
              "      <td id=\"T_1d27c_row6_col8\" class=\"data row6 col8\" >0.52</td>\n",
              "      <td id=\"T_1d27c_row6_col9\" class=\"data row6 col9\" >0.69</td>\n",
              "    </tr>\n",
              "    <tr>\n",
              "      <th id=\"T_1d27c_level0_row7\" class=\"row_heading level0 row7\" >cons_conf_idx</th>\n",
              "      <td id=\"T_1d27c_row7_col0\" class=\"data row7 col0\" >0.13</td>\n",
              "      <td id=\"T_1d27c_row7_col1\" class=\"data row7 col1\" >-0.01</td>\n",
              "      <td id=\"T_1d27c_row7_col2\" class=\"data row7 col2\" >-0.01</td>\n",
              "      <td id=\"T_1d27c_row7_col3\" class=\"data row7 col3\" >-0.09</td>\n",
              "      <td id=\"T_1d27c_row7_col4\" class=\"data row7 col4\" >-0.05</td>\n",
              "      <td id=\"T_1d27c_row7_col5\" class=\"data row7 col5\" >0.20</td>\n",
              "      <td id=\"T_1d27c_row7_col6\" class=\"data row7 col6\" >0.06</td>\n",
              "      <td id=\"T_1d27c_row7_col7\" class=\"data row7 col7\" >1.00</td>\n",
              "      <td id=\"T_1d27c_row7_col8\" class=\"data row7 col8\" >0.10</td>\n",
              "      <td id=\"T_1d27c_row7_col9\" class=\"data row7 col9\" >0.28</td>\n",
              "    </tr>\n",
              "    <tr>\n",
              "      <th id=\"T_1d27c_level0_row8\" class=\"row_heading level0 row8\" >nr_employed</th>\n",
              "      <td id=\"T_1d27c_row8_col0\" class=\"data row8 col0\" >-0.02</td>\n",
              "      <td id=\"T_1d27c_row8_col1\" class=\"data row8 col1\" >-0.04</td>\n",
              "      <td id=\"T_1d27c_row8_col2\" class=\"data row8 col2\" >0.14</td>\n",
              "      <td id=\"T_1d27c_row8_col3\" class=\"data row8 col3\" >0.37</td>\n",
              "      <td id=\"T_1d27c_row8_col4\" class=\"data row8 col4\" >-0.50</td>\n",
              "      <td id=\"T_1d27c_row8_col5\" class=\"data row8 col5\" >0.91</td>\n",
              "      <td id=\"T_1d27c_row8_col6\" class=\"data row8 col6\" >0.52</td>\n",
              "      <td id=\"T_1d27c_row8_col7\" class=\"data row8 col7\" >0.10</td>\n",
              "      <td id=\"T_1d27c_row8_col8\" class=\"data row8 col8\" >1.00</td>\n",
              "      <td id=\"T_1d27c_row8_col9\" class=\"data row8 col9\" >0.95</td>\n",
              "    </tr>\n",
              "    <tr>\n",
              "      <th id=\"T_1d27c_level0_row9\" class=\"row_heading level0 row9\" >euribor3m</th>\n",
              "      <td id=\"T_1d27c_row9_col0\" class=\"data row9 col0\" >0.01</td>\n",
              "      <td id=\"T_1d27c_row9_col1\" class=\"data row9 col1\" >-0.03</td>\n",
              "      <td id=\"T_1d27c_row9_col2\" class=\"data row9 col2\" >0.14</td>\n",
              "      <td id=\"T_1d27c_row9_col3\" class=\"data row9 col3\" >0.30</td>\n",
              "      <td id=\"T_1d27c_row9_col4\" class=\"data row9 col4\" >-0.45</td>\n",
              "      <td id=\"T_1d27c_row9_col5\" class=\"data row9 col5\" >0.97</td>\n",
              "      <td id=\"T_1d27c_row9_col6\" class=\"data row9 col6\" >0.69</td>\n",
              "      <td id=\"T_1d27c_row9_col7\" class=\"data row9 col7\" >0.28</td>\n",
              "      <td id=\"T_1d27c_row9_col8\" class=\"data row9 col8\" >0.95</td>\n",
              "      <td id=\"T_1d27c_row9_col9\" class=\"data row9 col9\" >1.00</td>\n",
              "    </tr>\n",
              "  </tbody>\n",
              "</table>\n"
            ]
          },
          "metadata": {},
          "execution_count": 39
        }
      ]
    },
    {
      "cell_type": "code",
      "source": [],
      "metadata": {
        "id": "8hhBSWekYCJu"
      },
      "execution_count": null,
      "outputs": []
    },
    {
      "cell_type": "markdown",
      "source": [
        "**Adjusting for Correlations - Removing nr_employed and euribor3m** "
      ],
      "metadata": {
        "id": "UKfDbBYt0ZKk"
      }
    },
    {
      "cell_type": "code",
      "source": [
        "inputCols=['job_encoded', 'marital_encoded', 'education_encoded', 'default_encoded', 'housing_encoded', 'loan_encoded', 'contact_encoded', 'poutcome_encoded',\n",
        "\"age\", \"duration\",\"campaign\", \"pdays\", \"previous\", \"emp_var_rate\",\"cons_price_idx\",\"cons_conf_idx\",\"month_encoded\", \"day_of_week_encoded\"]\n"
      ],
      "metadata": {
        "id": "tEU6URTC0UZz"
      },
      "execution_count": 40,
      "outputs": []
    },
    {
      "cell_type": "code",
      "source": [
        "vect_model = VectorAssembler(inputCols=inputCols,\n",
        "                          outputCol='vect_features')"
      ],
      "metadata": {
        "id": "w9Bw1mNU0mVu"
      },
      "execution_count": 41,
      "outputs": []
    },
    {
      "cell_type": "code",
      "source": [
        "vect_df = vect_model.setHandleInvalid(\"skip\").transform(Encoder_DF)"
      ],
      "metadata": {
        "id": "fZ0dRsfm0q_9"
      },
      "execution_count": 42,
      "outputs": []
    },
    {
      "cell_type": "code",
      "source": [
        "# Split data into training (70%) and test (30%)\n",
        "train, test = vect_df.randomSplit([0.7, 0.3], seed=11)\n",
        "train.cache()"
      ],
      "metadata": {
        "colab": {
          "base_uri": "https://localhost:8080/"
        },
        "id": "oxgvR1fg0w_C",
        "outputId": "85035c46-5051-4d6a-bbcc-e11f15b38bd4"
      },
      "execution_count": 43,
      "outputs": [
        {
          "output_type": "execute_result",
          "data": {
            "text/plain": [
              "DataFrame[age: int, job: string, marital: string, education: string, default: string, housing: string, loan: string, contact: string, month: string, day_of_week: string, duration: int, campaign: int, pdays: int, previous: int, poutcome: string, emp_var_rate: double, cons_price_idx: double, cons_conf_idx: double, euribor3m: double, nr_employed: double, y: string, job_encoded: double, marital_encoded: double, education_encoded: double, default_encoded: double, housing_encoded: double, loan_encoded: double, contact_encoded: double, poutcome_encoded: double, month_encoded: double, day_of_week_encoded: double, y_encoded: double, vect_features: vector]"
            ]
          },
          "metadata": {},
          "execution_count": 43
        }
      ]
    },
    {
      "cell_type": "markdown",
      "source": [
        "**ROC Function for evaluating Classification Algorithms** "
      ],
      "metadata": {
        "id": "pWB_htDN0_ll"
      }
    },
    {
      "cell_type": "code",
      "source": [
        "from pyspark.mllib.evaluation import BinaryClassificationMetrics\n",
        "class CurveMetrics(BinaryClassificationMetrics):\n",
        "    def __init__(self, *args):\n",
        "        super(CurveMetrics, self).__init__(*args)\n",
        "\n",
        "    def _to_list(self, rdd):\n",
        "        points = []\n",
        "        # Note this collect could be inefficient for large datasets \n",
        "        # considering there may be one probability per datapoint (at most)\n",
        "        # The Scala version takes a numBins parameter, \n",
        "        # but it doesn't seem possible to pass this from Python to Java\n",
        "        for row in rdd.collect():\n",
        "            # Results are returned as type scala.Tuple2, \n",
        "            # which doesn't appear to have a py4j mapping\n",
        "            points += [(float(row._1()), float(row._2()))]\n",
        "        return points\n",
        "\n",
        "    def get_curve(self, method):\n",
        "        rdd = getattr(self._java_model, method)().toJavaRDD()\n",
        "        return self._to_list(rdd)"
      ],
      "metadata": {
        "id": "VvC23eRH0-ep"
      },
      "execution_count": 44,
      "outputs": []
    },
    {
      "cell_type": "markdown",
      "source": [
        "**Model 1 - Logistic Regression** "
      ],
      "metadata": {
        "id": "p39gSOr91fg_"
      }
    },
    {
      "cell_type": "code",
      "source": [
        "from pyspark.ml.classification import LogisticRegression"
      ],
      "metadata": {
        "id": "-WSGfISR1Ui2"
      },
      "execution_count": 45,
      "outputs": []
    },
    {
      "cell_type": "code",
      "source": [
        "sample_lr_model = LogisticRegression(featuresCol='vect_features',labelCol='y_encoded')"
      ],
      "metadata": {
        "id": "i54qKlsk6lX9"
      },
      "execution_count": 46,
      "outputs": []
    },
    {
      "cell_type": "code",
      "source": [
        "sample_lr_model_fit = sample_lr_model.fit(train)"
      ],
      "metadata": {
        "id": "w8ckNmYh6taV"
      },
      "execution_count": 47,
      "outputs": []
    },
    {
      "cell_type": "code",
      "source": [
        "sample_lr_model_trans = sample_lr_model_fit.transform(train)"
      ],
      "metadata": {
        "id": "b2QN_GLZ61oZ"
      },
      "execution_count": 48,
      "outputs": []
    },
    {
      "cell_type": "code",
      "source": [
        "sample_lr_model_trans.select('vect_features','y_encoded','probability', 'prediction').show(3)"
      ],
      "metadata": {
        "colab": {
          "base_uri": "https://localhost:8080/"
        },
        "id": "7V0Ao-Bj65y_",
        "outputId": "ca7a9c42-1720-4840-e9a8-4be03d81076a"
      },
      "execution_count": 49,
      "outputs": [
        {
          "output_type": "stream",
          "name": "stdout",
          "text": [
            "+--------------------+---------+--------------------+----------+\n",
            "|       vect_features|y_encoded|         probability|prediction|\n",
            "+--------------------+---------+--------------------+----------+\n",
            "|[10.0,1.0,4.0,0.0...|      0.0|[0.89761423921817...|       0.0|\n",
            "|[10.0,1.0,4.0,0.0...|      0.0|[0.87600279622145...|       0.0|\n",
            "|[10.0,1.0,1.0,0.0...|      0.0|[0.96683594363534...|       0.0|\n",
            "+--------------------+---------+--------------------+----------+\n",
            "only showing top 3 rows\n",
            "\n"
          ]
        }
      ]
    },
    {
      "cell_type": "code",
      "source": [
        "trainingSummary = sample_lr_model_fit.summary\n",
        "roc = trainingSummary.roc.toPandas()\n",
        "plt.plot(roc['FPR'],roc['TPR'])\n",
        "plt.ylabel('False Positive Rate')\n",
        "plt.xlabel('True Positive Rate')\n",
        "plt.title('ROC Curve')\n",
        "plt.show()\n",
        "print('Training set areaUnderROC: ' + str(trainingSummary.areaUnderROC))"
      ],
      "metadata": {
        "colab": {
          "base_uri": "https://localhost:8080/",
          "height": 312
        },
        "id": "P7HRCVB0683z",
        "outputId": "c0dcffcb-af92-4443-d7b6-c6a9e22fbac9"
      },
      "execution_count": 50,
      "outputs": [
        {
          "output_type": "display_data",
          "data": {
            "text/plain": [
              "<Figure size 432x288 with 1 Axes>"
            ],
            "image/png": "[encoded data removed]"
          },
          "metadata": {
            "needs_background": "light"
          }
        },
        {
          "output_type": "stream",
          "name": "stdout",
          "text": [
            "Training set areaUnderROC: 0.9282100822678018\n"
          ]
        }
      ]
    },
    {
      "cell_type": "code",
      "source": [
        "from pyspark.ml.evaluation import BinaryClassificationEvaluator"
      ],
      "metadata": {
        "id": "vT3WjuNf7uZD"
      },
      "execution_count": 51,
      "outputs": []
    },
    {
      "cell_type": "code",
      "source": [
        "# Make predictions.\n",
        "predictions = sample_lr_model_fit.transform(test)\n",
        "\n",
        "# Select example rows to display.\n",
        "predictions.select(\"prediction\", \"y_encoded\", \"vect_features\").show(5)"
      ],
      "metadata": {
        "colab": {
          "base_uri": "https://localhost:8080/"
        },
        "id": "E0H725y47yz7",
        "outputId": "5e08f1c6-b6f2-414d-8ce9-f5ccedcdad11"
      },
      "execution_count": 52,
      "outputs": [
        {
          "output_type": "stream",
          "name": "stdout",
          "text": [
            "+----------+---------+--------------------+\n",
            "|prediction|y_encoded|       vect_features|\n",
            "+----------+---------+--------------------+\n",
            "|       0.0|      1.0|[10.0,1.0,5.0,0.0...|\n",
            "|       0.0|      0.0|[10.0,1.0,2.0,0.0...|\n",
            "|       0.0|      0.0|[10.0,1.0,1.0,1.0...|\n",
            "|       0.0|      0.0|[10.0,1.0,1.0,1.0...|\n",
            "|       0.0|      0.0|[10.0,1.0,6.0,0.0...|\n",
            "+----------+---------+--------------------+\n",
            "only showing top 5 rows\n",
            "\n"
          ]
        }
      ]
    },
    {
      "cell_type": "code",
      "source": [
        "# Select (prediction, true label) and compute test error\n",
        "evaluator = BinaryClassificationEvaluator(labelCol=\"y_encoded\", rawPredictionCol=\"prediction\")\n",
        "accuracy = evaluator.evaluate(predictions)\n",
        "print(accuracy)"
      ],
      "metadata": {
        "colab": {
          "base_uri": "https://localhost:8080/"
        },
        "id": "xcd3iaDP719h",
        "outputId": "91547da2-4ca0-45ce-d7b6-b2f75ced891f"
      },
      "execution_count": 53,
      "outputs": [
        {
          "output_type": "stream",
          "name": "stdout",
          "text": [
            "0.6695308631077748\n"
          ]
        }
      ]
    },
    {
      "cell_type": "code",
      "source": [
        "# Returns as a list (false positive rate, true positive rate)\n",
        "preds = predictions.select('y_encoded','probability').rdd.map(lambda row: (float(row['probability'][1]), float(row['y_encoded'])))\n",
        "points = CurveMetrics(preds).get_curve('roc')\n",
        "\n",
        "plt.figure()\n",
        "x_val = [x[0] for x in points]\n",
        "y_val = [x[1] for x in points]\n",
        "plt.title('ROC curve')\n",
        "plt.xlabel('FPR')\n",
        "plt.ylabel('TPR')\n",
        "plt.plot(x_val, y_val)"
      ],
      "metadata": {
        "colab": {
          "base_uri": "https://localhost:8080/",
          "height": 312
        },
        "id": "JLYc5IZ-77iJ",
        "outputId": "f0dc5b67-2311-4008-88f4-a31de1634cc8"
      },
      "execution_count": 54,
      "outputs": [
        {
          "output_type": "execute_result",
          "data": {
            "text/plain": [
              "[<matplotlib.lines.Line2D at 0x7ff5507798d0>]"
            ]
          },
          "metadata": {},
          "execution_count": 54
        },
        {
          "output_type": "display_data",
          "data": {
            "text/plain": [
              "<Figure size 432x288 with 1 Axes>"
            ],
            "image/png": "[encoded data removed]"
          },
          "metadata": {
            "needs_background": "light"
          }
        }
      ]
    },
    {
      "cell_type": "code",
      "source": [
        "# test - AUC Score\n",
        "metrics = BinaryClassificationMetrics(preds)\n",
        "metrics.areaUnderROC"
      ],
      "metadata": {
        "colab": {
          "base_uri": "https://localhost:8080/"
        },
        "id": "pna-iL028C5E",
        "outputId": "9bbcb15c-0a47-4231-a03d-f1027c0f4109"
      },
      "execution_count": 55,
      "outputs": [
        {
          "output_type": "execute_result",
          "data": {
            "text/plain": [
              "0.9310123883397595"
            ]
          },
          "metadata": {},
          "execution_count": 55
        }
      ]
    },
    {
      "cell_type": "code",
      "source": [
        "class_names=[1.0,0.0]\n",
        "import itertools\n",
        "def plot_confusion_matrix(cm, classes,normalize=False,title='Confusion matrix',cmap=plt.cm.Blues):\n",
        "\n",
        "    \"\"\"\n",
        "\n",
        "    This function prints and plots the confusion matrix.\n",
        "\n",
        "    Normalization can be applied by setting `normalize=True`.\n",
        "\n",
        "    \"\"\"\n",
        "\n",
        "    if normalize:\n",
        "\n",
        "        cm = cm.astype('float') / cm.sum(axis=1)[:, np.newaxis]\n",
        "\n",
        "        print(\"Normalized confusion matrix\")\n",
        "\n",
        "    else:\n",
        "\n",
        "        print('Confusion matrix, without normalization')\n",
        "\n",
        "\n",
        "\n",
        "    print(cm)\n",
        "\n",
        "\n",
        "\n",
        "    plt.imshow(cm, interpolation='nearest', cmap=cmap)\n",
        "\n",
        "    plt.title(title)\n",
        "\n",
        "    plt.colorbar()\n",
        "\n",
        "    tick_marks = np.arange(len(classes))\n",
        "\n",
        "    plt.xticks(tick_marks, classes, rotation=45)\n",
        "\n",
        "    plt.yticks(tick_marks, classes)\n",
        "\n",
        "\n",
        "\n",
        "    fmt = '.2f' if normalize else 'd'\n",
        "\n",
        "    thresh = cm.max() / 2.\n",
        "\n",
        "    for i, j in itertools.product(range(cm.shape[0]), range(cm.shape[1])):\n",
        "\n",
        "        plt.text(j, i, format(cm[i, j], fmt),\n",
        "\n",
        "                 horizontalalignment=\"center\",\n",
        "\n",
        "                 color=\"white\" if cm[i, j] > thresh else \"black\")\n",
        "\n",
        "\n",
        "\n",
        "    plt.tight_layout()\n",
        "\n",
        "    plt.ylabel('True label')\n",
        "\n",
        "    plt.xlabel('Predicted label')"
      ],
      "metadata": {
        "id": "rxjiVyZdY13c"
      },
      "execution_count": 57,
      "outputs": []
    },
    {
      "cell_type": "code",
      "source": [
        "y_true = predictions.select(\"y_encoded\")\n",
        "y_true = y_true.toPandas()\n",
        "\n",
        "y_pred = predictions.select(\"prediction\")\n",
        "y_pred = y_pred.toPandas()\n",
        "\n",
        "cnf_matrix = confusion_matrix(y_true, y_pred,labels=class_names)\n",
        "plt.figure()\n",
        "plot_confusion_matrix(cnf_matrix, classes=class_names,title='Confusion matrix')\n",
        "\n",
        "plt.show()"
      ],
      "metadata": {
        "colab": {
          "base_uri": "https://localhost:8080/",
          "height": 363
        },
        "id": "wG9eZrUVZCRL",
        "outputId": "9c52182e-c3a4-4919-dca9-2cabced4aaea"
      },
      "execution_count": 58,
      "outputs": [
        {
          "output_type": "stream",
          "name": "stdout",
          "text": [
            "Confusion matrix, without normalization\n",
            "[[  512   893]\n",
            " [  278 10688]]\n"
          ]
        },
        {
          "output_type": "display_data",
          "data": {
            "text/plain": [
              "<Figure size 432x288 with 2 Axes>"
            ],
            "image/png": "[encoded data removed]"
          },
          "metadata": {
            "needs_background": "light"
          }
        }
      ]
    },
    {
      "cell_type": "markdown",
      "source": [
        "**Model 2 - Random Forest**"
      ],
      "metadata": {
        "id": "sOjh7Tiu-UHK"
      }
    },
    {
      "cell_type": "code",
      "source": [
        "from pyspark.ml.classification import RandomForestClassifier\n",
        "from pyspark.ml.evaluation import MulticlassClassificationEvaluator"
      ],
      "metadata": {
        "id": "MKsT18rl-aie"
      },
      "execution_count": 59,
      "outputs": []
    },
    {
      "cell_type": "code",
      "source": [
        "rf_model = RandomForestClassifier(featuresCol='vect_features',labelCol='y_encoded')"
      ],
      "metadata": {
        "id": "T428Q2zD-hQu"
      },
      "execution_count": 60,
      "outputs": []
    },
    {
      "cell_type": "code",
      "source": [
        "rf_model_fit = rf_model.fit(train)"
      ],
      "metadata": {
        "id": "-4B9_hnk-jSo"
      },
      "execution_count": 61,
      "outputs": []
    },
    {
      "cell_type": "code",
      "source": [
        "predictions = rf_model_fit.transform(test)"
      ],
      "metadata": {
        "id": "DhSnbdah-loP"
      },
      "execution_count": 62,
      "outputs": []
    },
    {
      "cell_type": "code",
      "source": [
        "predictions.select('vect_features','y_encoded','probability', 'prediction').show(3)"
      ],
      "metadata": {
        "colab": {
          "base_uri": "https://localhost:8080/"
        },
        "id": "feysg1rN-nde",
        "outputId": "fab047d4-cda2-46be-b686-ad48aaffd5b3"
      },
      "execution_count": 63,
      "outputs": [
        {
          "output_type": "stream",
          "name": "stdout",
          "text": [
            "+--------------------+---------+--------------------+----------+\n",
            "|       vect_features|y_encoded|         probability|prediction|\n",
            "+--------------------+---------+--------------------+----------+\n",
            "|[10.0,1.0,5.0,0.0...|      1.0|[0.76758139490871...|       0.0|\n",
            "|[10.0,1.0,2.0,0.0...|      0.0|[0.93133959841295...|       0.0|\n",
            "|[10.0,1.0,1.0,1.0...|      0.0|[0.93864106458980...|       0.0|\n",
            "+--------------------+---------+--------------------+----------+\n",
            "only showing top 3 rows\n",
            "\n"
          ]
        }
      ]
    },
    {
      "cell_type": "code",
      "source": [
        "rf_train_summary = rf_model_fit.summary\n",
        "roc = rf_train_summary.roc.toPandas()\n",
        "plt.plot(roc['FPR'],roc['TPR'])\n",
        "plt.ylabel('False Positive Rate')\n",
        "plt.xlabel('True Positive Rate')\n",
        "plt.title('ROC Curve')\n",
        "plt.show()\n",
        "print('Training set areaUnderROC: ' + str(rf_train_summary.areaUnderROC))"
      ],
      "metadata": {
        "colab": {
          "base_uri": "https://localhost:8080/",
          "height": 312
        },
        "id": "32bN0zW--ppb",
        "outputId": "fbf2b83f-0da2-4f27-9841-7db810cd5160"
      },
      "execution_count": 64,
      "outputs": [
        {
          "output_type": "display_data",
          "data": {
            "text/plain": [
              "<Figure size 432x288 with 1 Axes>"
            ],
            "image/png": "[encoded data removed]"
          },
          "metadata": {
            "needs_background": "light"
          }
        },
        {
          "output_type": "stream",
          "name": "stdout",
          "text": [
            "Training set areaUnderROC: 0.9275762747111237\n"
          ]
        }
      ]
    },
    {
      "cell_type": "code",
      "source": [
        "# Select (prediction, true label) and compute test error\n",
        "evaluator = BinaryClassificationEvaluator(labelCol=\"y_encoded\", rawPredictionCol=\"prediction\")\n",
        "accuracy = evaluator.evaluate(predictions)\n",
        "print(accuracy)"
      ],
      "metadata": {
        "colab": {
          "base_uri": "https://localhost:8080/"
        },
        "id": "RnNQL8lv_QEU",
        "outputId": "e5721e83-da49-46a0-fd45-c38462872cfe"
      },
      "execution_count": 65,
      "outputs": [
        {
          "output_type": "stream",
          "name": "stdout",
          "text": [
            "0.5970096182117097\n"
          ]
        }
      ]
    },
    {
      "cell_type": "code",
      "source": [
        "# Returns as a list (false positive rate, true positive rate)\n",
        "preds = predictions.select('y_encoded','probability').rdd.map(lambda row: (float(row['probability'][1]), float(row['y_encoded'])))\n",
        "points = CurveMetrics(preds).get_curve('roc')\n",
        "\n",
        "plt.figure()\n",
        "x_val = [x[0] for x in points]\n",
        "y_val = [x[1] for x in points]\n",
        "plt.title('ROC curve')\n",
        "plt.xlabel('FPR')\n",
        "plt.ylabel('TPR')\n",
        "plt.plot(x_val, y_val)"
      ],
      "metadata": {
        "colab": {
          "base_uri": "https://localhost:8080/",
          "height": 312
        },
        "id": "voL0yn-2_TcE",
        "outputId": "0bf2c2b7-df0c-4b84-e2f0-6b56a989eaed"
      },
      "execution_count": 66,
      "outputs": [
        {
          "output_type": "execute_result",
          "data": {
            "text/plain": [
              "[<matplotlib.lines.Line2D at 0x7ff54fcdd4d0>]"
            ]
          },
          "metadata": {},
          "execution_count": 66
        },
        {
          "output_type": "display_data",
          "data": {
            "text/plain": [
              "<Figure size 432x288 with 1 Axes>"
            ],
            "image/png": "[encoded data removed]"
          },
          "metadata": {
            "needs_background": "light"
          }
        }
      ]
    },
    {
      "cell_type": "code",
      "source": [
        "# test - AUC Score\n",
        "metrics = BinaryClassificationMetrics(preds)\n",
        "metrics.areaUnderROC"
      ],
      "metadata": {
        "colab": {
          "base_uri": "https://localhost:8080/"
        },
        "id": "pLlzDijW_Xwy",
        "outputId": "47fb6971-362d-4857-d6fd-5d7f276a612a"
      },
      "execution_count": 67,
      "outputs": [
        {
          "output_type": "execute_result",
          "data": {
            "text/plain": [
              "0.9295338616999941"
            ]
          },
          "metadata": {},
          "execution_count": 67
        }
      ]
    },
    {
      "cell_type": "code",
      "source": [
        "y_true = predictions.select(\"y_encoded\")\n",
        "y_true = y_true.toPandas()\n",
        "\n",
        "y_pred = predictions.select(\"prediction\")\n",
        "y_pred = y_pred.toPandas()\n",
        "\n",
        "cnf_matrix = confusion_matrix(y_true, y_pred,labels=class_names)\n",
        "plt.figure()\n",
        "plot_confusion_matrix(cnf_matrix, classes=class_names,title='Confusion matrix')\n",
        "\n",
        "plt.show()"
      ],
      "metadata": {
        "colab": {
          "base_uri": "https://localhost:8080/",
          "height": 363
        },
        "id": "Jh8BBhlXb4vd",
        "outputId": "5c36e385-4e60-4122-fdb4-ac8f1508b5e3"
      },
      "execution_count": 68,
      "outputs": [
        {
          "output_type": "stream",
          "name": "stdout",
          "text": [
            "Confusion matrix, without normalization\n",
            "[[  284  1121]\n",
            " [   89 10877]]\n"
          ]
        },
        {
          "output_type": "display_data",
          "data": {
            "text/plain": [
              "<Figure size 432x288 with 2 Axes>"
            ],
            "image/png": "[encoded data removed]"
          },
          "metadata": {
            "needs_background": "light"
          }
        }
      ]
    },
    {
      "cell_type": "markdown",
      "source": [
        "**Model 3 - Decision Tree**"
      ],
      "metadata": {
        "id": "vQlBneatAftc"
      }
    },
    {
      "cell_type": "code",
      "source": [
        "from pyspark.ml.classification import DecisionTreeClassifier"
      ],
      "metadata": {
        "id": "lNNWx8xDAl32"
      },
      "execution_count": 69,
      "outputs": []
    },
    {
      "cell_type": "code",
      "source": [
        "dtree_model = DecisionTreeClassifier(featuresCol='vect_features',labelCol='y_encoded')\n",
        "dtree_model_fit = dtree_model.fit(train)\n",
        "predictions = dtree_model_fit.transform(test)"
      ],
      "metadata": {
        "id": "zf8zdJ0eAq_7"
      },
      "execution_count": 70,
      "outputs": []
    },
    {
      "cell_type": "code",
      "source": [
        "predictions.select('vect_features','y_encoded','probability', 'prediction').show(3)"
      ],
      "metadata": {
        "colab": {
          "base_uri": "https://localhost:8080/"
        },
        "id": "etlPj6icAtaa",
        "outputId": "0f1edda6-681a-478f-e927-baba1d1382bb"
      },
      "execution_count": 71,
      "outputs": [
        {
          "output_type": "stream",
          "name": "stdout",
          "text": [
            "+--------------------+---------+--------------------+----------+\n",
            "|       vect_features|y_encoded|         probability|prediction|\n",
            "+--------------------+---------+--------------------+----------+\n",
            "|[10.0,1.0,5.0,0.0...|      1.0|[0.96762463857005...|       0.0|\n",
            "|[10.0,1.0,2.0,0.0...|      0.0|[0.96762463857005...|       0.0|\n",
            "|[10.0,1.0,1.0,1.0...|      0.0|[0.96762463857005...|       0.0|\n",
            "+--------------------+---------+--------------------+----------+\n",
            "only showing top 3 rows\n",
            "\n"
          ]
        }
      ]
    },
    {
      "cell_type": "code",
      "source": [
        "evaluator = BinaryClassificationEvaluator(labelCol=\"y_encoded\", rawPredictionCol=\"prediction\")\n",
        "accuracy = evaluator.evaluate(predictions)\n",
        "print(accuracy)"
      ],
      "metadata": {
        "colab": {
          "base_uri": "https://localhost:8080/"
        },
        "id": "eqKeD2SMAvWC",
        "outputId": "1b4723dd-e703-4179-8608-7c5f3ae0aabb"
      },
      "execution_count": 72,
      "outputs": [
        {
          "output_type": "stream",
          "name": "stdout",
          "text": [
            "0.713379919687056\n"
          ]
        }
      ]
    },
    {
      "cell_type": "code",
      "source": [
        "# Returns as a list (false positive rate, true positive rate)\n",
        "preds = predictions.select('y_encoded','probability').rdd.map(lambda row: (float(row['probability'][1]), float(row['y_encoded'])))\n",
        "points = CurveMetrics(preds).get_curve('roc')\n",
        "\n",
        "plt.figure()\n",
        "x_val = [x[0] for x in points]\n",
        "y_val = [x[1] for x in points]\n",
        "plt.title('ROC curve')\n",
        "plt.xlabel('FPR')\n",
        "plt.ylabel('TPR')\n",
        "plt.plot(x_val, y_val)"
      ],
      "metadata": {
        "colab": {
          "base_uri": "https://localhost:8080/",
          "height": 312
        },
        "id": "UozUElOKBHqE",
        "outputId": "efc51342-e65d-4ffa-ca63-f34c6e65d056"
      },
      "execution_count": 73,
      "outputs": [
        {
          "output_type": "execute_result",
          "data": {
            "text/plain": [
              "[<matplotlib.lines.Line2D at 0x7ff54ec21710>]"
            ]
          },
          "metadata": {},
          "execution_count": 73
        },
        {
          "output_type": "display_data",
          "data": {
            "text/plain": [
              "<Figure size 432x288 with 1 Axes>"
            ],
            "image/png": "[encoded data removed]"
          },
          "metadata": {
            "needs_background": "light"
          }
        }
      ]
    },
    {
      "cell_type": "code",
      "source": [
        "# test - AUC Score\n",
        "metrics = BinaryClassificationMetrics(preds)\n",
        "metrics.areaUnderROC"
      ],
      "metadata": {
        "colab": {
          "base_uri": "https://localhost:8080/"
        },
        "id": "FrWqOcGuBMZ6",
        "outputId": "c3225bf9-b3b0-417d-ceef-65f24e13c322"
      },
      "execution_count": 74,
      "outputs": [
        {
          "output_type": "execute_result",
          "data": {
            "text/plain": [
              "0.8365006558609173"
            ]
          },
          "metadata": {},
          "execution_count": 74
        }
      ]
    },
    {
      "cell_type": "code",
      "source": [
        "y_true = predictions.select(\"y_encoded\")\n",
        "y_true = y_true.toPandas()\n",
        "\n",
        "y_pred = predictions.select(\"prediction\")\n",
        "y_pred = y_pred.toPandas()\n",
        "\n",
        "cnf_matrix = confusion_matrix(y_true, y_pred,labels=class_names)\n",
        "plt.figure()\n",
        "plot_confusion_matrix(cnf_matrix, classes=class_names,title='Confusion matrix')\n",
        "\n",
        "plt.show()"
      ],
      "metadata": {
        "colab": {
          "base_uri": "https://localhost:8080/",
          "height": 363
        },
        "id": "jlyC4_kjdbvu",
        "outputId": "0dcff9f4-1cf2-4230-a156-6026747ac15e"
      },
      "execution_count": 75,
      "outputs": [
        {
          "output_type": "stream",
          "name": "stdout",
          "text": [
            "Confusion matrix, without normalization\n",
            "[[  652   753]\n",
            " [  409 10557]]\n"
          ]
        },
        {
          "output_type": "display_data",
          "data": {
            "text/plain": [
              "<Figure size 432x288 with 2 Axes>"
            ],
            "image/png": "[encoded data removed]"
          },
          "metadata": {
            "needs_background": "light"
          }
        }
      ]
    },
    {
      "cell_type": "markdown",
      "source": [
        "Model 4 - Gradient Boosting"
      ],
      "metadata": {
        "id": "KrTLNYWjCeUH"
      }
    },
    {
      "cell_type": "code",
      "source": [
        "from pyspark.ml.classification import GBTClassifier"
      ],
      "metadata": {
        "id": "k_8KMkoECYwP"
      },
      "execution_count": 76,
      "outputs": []
    },
    {
      "cell_type": "code",
      "source": [
        "gbt_model = GBTClassifier(featuresCol='vect_features',labelCol='y_encoded')\n",
        "gbt_model_fit = gbt_model.fit(train)\n",
        "predictions = gbt_model_fit.transform(test)"
      ],
      "metadata": {
        "id": "5Gsa3XRmCjlW"
      },
      "execution_count": 77,
      "outputs": []
    },
    {
      "cell_type": "code",
      "source": [
        "evaluator = BinaryClassificationEvaluator(labelCol=\"y_encoded\", rawPredictionCol=\"prediction\")\n",
        "accuracy = evaluator.evaluate(predictions)\n",
        "print(accuracy)"
      ],
      "metadata": {
        "colab": {
          "base_uri": "https://localhost:8080/"
        },
        "id": "d_R-wxIGCmAV",
        "outputId": "eb4c4237-083b-4e3c-d5a5-30d7cb3d69ce"
      },
      "execution_count": 78,
      "outputs": [
        {
          "output_type": "stream",
          "name": "stdout",
          "text": [
            "0.7160700528258487\n"
          ]
        }
      ]
    },
    {
      "cell_type": "code",
      "source": [
        "# Returns as a list (false positive rate, true positive rate)\n",
        "preds = predictions.select('y_encoded','probability').rdd.map(lambda row: (float(row['probability'][1]), float(row['y_encoded'])))\n",
        "points = CurveMetrics(preds).get_curve('roc')\n",
        "\n",
        "plt.figure()\n",
        "x_val = [x[0] for x in points]\n",
        "y_val = [x[1] for x in points]\n",
        "plt.title('ROC curve')\n",
        "plt.xlabel('FPR')\n",
        "plt.ylabel('TPR')\n",
        "plt.plot(x_val, y_val)"
      ],
      "metadata": {
        "colab": {
          "base_uri": "https://localhost:8080/",
          "height": 312
        },
        "id": "aeB835tpCnsA",
        "outputId": "6b9f3c19-8fe0-49c2-ff65-3335bdffd0f9"
      },
      "execution_count": 79,
      "outputs": [
        {
          "output_type": "execute_result",
          "data": {
            "text/plain": [
              "[<matplotlib.lines.Line2D at 0x7ff54f874350>]"
            ]
          },
          "metadata": {},
          "execution_count": 79
        },
        {
          "output_type": "display_data",
          "data": {
            "text/plain": [
              "<Figure size 432x288 with 1 Axes>"
            ],
            "image/png": "[encoded data removed]"
          },
          "metadata": {
            "needs_background": "light"
          }
        }
      ]
    },
    {
      "cell_type": "code",
      "source": [
        "# test - AUC Score\n",
        "metrics = BinaryClassificationMetrics(preds)\n",
        "metrics.areaUnderROC"
      ],
      "metadata": {
        "colab": {
          "base_uri": "https://localhost:8080/"
        },
        "id": "-pjPq4SpCqnn",
        "outputId": "36193302-70c6-4900-a40a-b4bfa9df5936"
      },
      "execution_count": 80,
      "outputs": [
        {
          "output_type": "execute_result",
          "data": {
            "text/plain": [
              "0.945410855812498"
            ]
          },
          "metadata": {},
          "execution_count": 80
        }
      ]
    },
    {
      "cell_type": "code",
      "source": [
        "y_true = predictions.select(\"y_encoded\")\n",
        "y_true = y_true.toPandas()\n",
        "\n",
        "y_pred = predictions.select(\"prediction\")\n",
        "y_pred = y_pred.toPandas()\n",
        "\n",
        "cnf_matrix = confusion_matrix(y_true, y_pred,labels=class_names)\n",
        "plt.figure()\n",
        "plot_confusion_matrix(cnf_matrix, classes=class_names,title='Confusion matrix')\n",
        "\n",
        "plt.show()"
      ],
      "metadata": {
        "colab": {
          "base_uri": "https://localhost:8080/",
          "height": 363
        },
        "id": "FyIkphnOdrhL",
        "outputId": "0d18f14d-ccaf-4c69-8225-906c345e4a9c"
      },
      "execution_count": 81,
      "outputs": [
        {
          "output_type": "stream",
          "name": "stdout",
          "text": [
            "Confusion matrix, without normalization\n",
            "[[  652   753]\n",
            " [  350 10616]]\n"
          ]
        },
        {
          "output_type": "display_data",
          "data": {
            "text/plain": [
              "<Figure size 432x288 with 2 Axes>"
            ],
            "image/png": "[encoded data removed]"
          },
          "metadata": {
            "needs_background": "light"
          }
        }
      ]
    },
    {
      "cell_type": "markdown",
      "source": [
        "**K - Means Clustering**"
      ],
      "metadata": {
        "id": "xNqkc18wEGEr"
      }
    },
    {
      "cell_type": "code",
      "source": [
        "from pyspark.ml.clustering import KMeans\n",
        "from pyspark.ml.evaluation import ClusteringEvaluator\n",
        "silhouette_score=[]\n",
        "\n",
        "evaluator = ClusteringEvaluator(predictionCol='prediction', featuresCol='vect_features', \\\n",
        "                                metricName='silhouette', distanceMeasure='squaredEuclidean')\n",
        "for i in range(2,10):\n",
        "    \n",
        "    KMeans_algo=KMeans(featuresCol='vect_features', k=i)\n",
        "    KMeans_fit=KMeans_algo.fit(vect_df)\n",
        "    \n",
        "    output=KMeans_fit.transform(vect_df)\n",
        "    \n",
        "    \n",
        "    \n",
        "    score=evaluator.evaluate(output)\n",
        "    \n",
        "    silhouette_score.append(score)\n",
        "    \n",
        "    print(\"Silhouette Score:\",score)"
      ],
      "metadata": {
        "colab": {
          "base_uri": "https://localhost:8080/"
        },
        "id": "gTwO6HOgDGWC",
        "outputId": "0ed581ea-4bad-49eb-a30c-15a2ef468770"
      },
      "execution_count": 82,
      "outputs": [
        {
          "output_type": "stream",
          "name": "stdout",
          "text": [
            "Silhouette Score: 0.7863877588415096\n",
            "Silhouette Score: 0.8653167166226732\n",
            "Silhouette Score: 0.8015746755864427\n",
            "Silhouette Score: 0.7783364702474375\n",
            "Silhouette Score: 0.7471059819819847\n",
            "Silhouette Score: 0.7188121025320332\n",
            "Silhouette Score: 0.7135363891012293\n",
            "Silhouette Score: 0.7092959911980926\n"
          ]
        }
      ]
    },
    {
      "cell_type": "code",
      "source": [
        "import matplotlib.pyplot as plt\n",
        "fig, ax = plt.subplots(1,1, figsize =(10,8))\n",
        "ax.plot(range(2,10),silhouette_score)\n",
        "ax.set_xlabel('Number of Clusters')\n",
        "ax.set_ylabel('Silhouette Score')"
      ],
      "metadata": {
        "colab": {
          "base_uri": "https://localhost:8080/",
          "height": 514
        },
        "id": "ehr_vDy0Fp7p",
        "outputId": "892d4053-a67f-42ec-a7d9-5ba5bf6ea06d"
      },
      "execution_count": 83,
      "outputs": [
        {
          "output_type": "execute_result",
          "data": {
            "text/plain": [
              "Text(0, 0.5, 'Silhouette Score')"
            ]
          },
          "metadata": {},
          "execution_count": 83
        },
        {
          "output_type": "display_data",
          "data": {
            "text/plain": [
              "<Figure size 720x576 with 1 Axes>"
            ],
            "image/png": "[encoded data removed]"
          },
          "metadata": {
            "needs_background": "light"
          }
        }
      ]
    },
    {
      "cell_type": "code",
      "source": [
        "gbt_model_fit.save(\"FinalModel\")"
      ],
      "metadata": {
        "id": "4TPVMU-9DdwJ"
      },
      "execution_count": 87,
      "outputs": []
    },
    {
      "cell_type": "code",
      "source": [
        "!zip -r /content/FinalModel.zip /content/FinalModel"
      ],
      "metadata": {
        "colab": {
          "base_uri": "https://localhost:8080/"
        },
        "id": "bpC4tWlsFEyd",
        "outputId": "e0ddc309-fde5-48af-91a9-ca5d7837e826"
      },
      "execution_count": 88,
      "outputs": [
        {
          "output_type": "stream",
          "name": "stdout",
          "text": [
            "  adding: content/FinalModel/ (stored 0%)\n",
            "  adding: content/FinalModel/metadata/ (stored 0%)\n",
            "  adding: content/FinalModel/metadata/_SUCCESS (stored 0%)\n",
            "  adding: content/FinalModel/metadata/part-00000 (deflated 43%)\n",
            "  adding: content/FinalModel/metadata/._SUCCESS.crc (stored 0%)\n",
            "  adding: content/FinalModel/metadata/.part-00000.crc (stored 0%)\n",
            "  adding: content/FinalModel/data/ (stored 0%)\n",
            "  adding: content/FinalModel/data/part-00000-3918a0c5-1a3e-4c59-a4ce-1e085952b796-c000.snappy.parquet (deflated 14%)\n",
            "  adding: content/FinalModel/data/_SUCCESS (stored 0%)\n",
            "  adding: content/FinalModel/data/.part-00001-3918a0c5-1a3e-4c59-a4ce-1e085952b796-c000.snappy.parquet.crc (stored 0%)\n",
            "  adding: content/FinalModel/data/._SUCCESS.crc (stored 0%)\n",
            "  adding: content/FinalModel/data/.part-00000-3918a0c5-1a3e-4c59-a4ce-1e085952b796-c000.snappy.parquet.crc (stored 0%)\n",
            "  adding: content/FinalModel/data/part-00001-3918a0c5-1a3e-4c59-a4ce-1e085952b796-c000.snappy.parquet (deflated 13%)\n",
            "  adding: content/FinalModel/treesMetadata/ (stored 0%)\n",
            "  adding: content/FinalModel/treesMetadata/_SUCCESS (stored 0%)\n",
            "  adding: content/FinalModel/treesMetadata/part-00000-7a011868-f5e3-40af-a365-4291266e4a96-c000.snappy.parquet (deflated 59%)\n",
            "  adding: content/FinalModel/treesMetadata/part-00001-7a011868-f5e3-40af-a365-4291266e4a96-c000.snappy.parquet (deflated 59%)\n",
            "  adding: content/FinalModel/treesMetadata/.part-00000-7a011868-f5e3-40af-a365-4291266e4a96-c000.snappy.parquet.crc (stored 0%)\n",
            "  adding: content/FinalModel/treesMetadata/._SUCCESS.crc (stored 0%)\n",
            "  adding: content/FinalModel/treesMetadata/.part-00001-7a011868-f5e3-40af-a365-4291266e4a96-c000.snappy.parquet.crc (stored 0%)\n"
          ]
        }
      ]
    },
    {
      "cell_type": "code",
      "source": [
        "from google.colab import files\n",
        "files.download(\"/content/FinalModel.zip\")"
      ],
      "metadata": {
        "colab": {
          "base_uri": "https://localhost:8080/",
          "height": 17
        },
        "id": "vDzl-4XgFJ3i",
        "outputId": "9ea19015-1436-4d2f-dfdf-2f98cee13d62"
      },
      "execution_count": 90,
      "outputs": [
        {
          "output_type": "display_data",
          "data": {
            "text/plain": [
              "<IPython.core.display.Javascript object>"
            ],
            "application/javascript": [
              "\n",
              "    async function download(id, filename, size) {\n",
              "      if (!google.colab.kernel.accessAllowed) {\n",
              "        return;\n",
              "      }\n",
              "      const div = document.createElement('div');\n",
              "      const label = document.createElement('label');\n",
              "      label.textContent = `Downloading \"${filename}\": `;\n",
              "      div.appendChild(label);\n",
              "      const progress = document.createElement('progress');\n",
              "      progress.max = size;\n",
              "      div.appendChild(progress);\n",
              "      document.body.appendChild(div);\n",
              "\n",
              "      const buffers = [];\n",
              "      let downloaded = 0;\n",
              "\n",
              "      const channel = await google.colab.kernel.comms.open(id);\n",
              "      // Send a message to notify the kernel that we're ready.\n",
              "      channel.send({})\n",
              "\n",
              "      for await (const message of channel.messages) {\n",
              "        // Send a message to notify the kernel that we're ready.\n",
              "        channel.send({})\n",
              "        if (message.buffers) {\n",
              "          for (const buffer of message.buffers) {\n",
              "            buffers.push(buffer);\n",
              "            downloaded += buffer.byteLength;\n",
              "            progress.value = downloaded;\n",
              "          }\n",
              "        }\n",
              "      }\n",
              "      const blob = new Blob(buffers, {type: 'application/binary'});\n",
              "      const a = document.createElement('a');\n",
              "      a.href = window.URL.createObjectURL(blob);\n",
              "      a.download = filename;\n",
              "      div.appendChild(a);\n",
              "      a.click();\n",
              "      div.remove();\n",
              "    }\n",
              "  "
            ]
          },
          "metadata": {}
        },
        {
          "output_type": "display_data",
          "data": {
            "text/plain": [
              "<IPython.core.display.Javascript object>"
            ],
            "application/javascript": [
              "download(\"download_7474da79-1054-4fd4-903b-741524ba1eee\", \"FinalModel.zip\", 70678)"
            ]
          },
          "metadata": {}
        }
      ]
    }
  ]
}